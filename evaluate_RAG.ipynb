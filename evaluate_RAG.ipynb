{
 "cells": [
  {
   "cell_type": "markdown",
   "metadata": {},
   "source": [
    "Llama2-7b"
   ]
  },
  {
   "cell_type": "code",
   "execution_count": 1,
   "metadata": {},
   "outputs": [
    {
     "data": {
      "text/html": [
       "<div>\n",
       "<style scoped>\n",
       "    .dataframe tbody tr th:only-of-type {\n",
       "        vertical-align: middle;\n",
       "    }\n",
       "\n",
       "    .dataframe tbody tr th {\n",
       "        vertical-align: top;\n",
       "    }\n",
       "\n",
       "    .dataframe thead th {\n",
       "        text-align: right;\n",
       "    }\n",
       "</style>\n",
       "<table border=\"1\" class=\"dataframe\">\n",
       "  <thead>\n",
       "    <tr style=\"text-align: right;\">\n",
       "      <th></th>\n",
       "      <th>answer</th>\n",
       "      <th>question</th>\n",
       "      <th>contexts</th>\n",
       "    </tr>\n",
       "  </thead>\n",
       "  <tbody>\n",
       "    <tr>\n",
       "      <th>0</th>\n",
       "      <td>1. Combine all ingredients in a pot, then cove...</td>\n",
       "      <td>Garlic powder,Salt,Cooking oil</td>\n",
       "      <td>1 minced garlic clove  \\n1 tsp. finely grated ...</td>\n",
       "    </tr>\n",
       "    <tr>\n",
       "      <th>1</th>\n",
       "      <td>Cream Prawns Recipe - How to make Cream Prawns...</td>\n",
       "      <td>cream,flour,onion,green chilli,tumeric,powder,...</td>\n",
       "      <td>½ capsicum + 1 green chilli + ½ cup  water mea...</td>\n",
       "    </tr>\n",
       "    <tr>\n",
       "      <th>2</th>\n",
       "      <td>Sambar:\\n1) Roast chana</td>\n",
       "      <td>garlic,carrots,parsnips,curry powder,rice,chat...</td>\n",
       "      <td>Vada \\nSambhar\\nFOR SAMBHAR\\nToor dal ½ cup \\n...</td>\n",
       "    </tr>\n",
       "    <tr>\n",
       "      <th>3</th>\n",
       "      <td>Combine all these ingredients in a bowl, mix w...</td>\n",
       "      <td>flour,garlic,coriander,chilli powder,garam mas...</td>\n",
       "      <td>Hing ¼ tsp\\n82\\nFOR BATTERCabbage 1 small\\nCap...</td>\n",
       "    </tr>\n",
       "    <tr>\n",
       "      <th>4</th>\n",
       "      <td>Semolina Kulfi</td>\n",
       "      <td>semolina,khoya,cooking oil,cardamon powder,water</td>\n",
       "      <td>recipe book - grange town primary school\\npage...</td>\n",
       "    </tr>\n",
       "  </tbody>\n",
       "</table>\n",
       "</div>"
      ],
      "text/plain": [
       "                                              answer  \\\n",
       "0  1. Combine all ingredients in a pot, then cove...   \n",
       "1  Cream Prawns Recipe - How to make Cream Prawns...   \n",
       "2                            Sambar:\\n1) Roast chana   \n",
       "3  Combine all these ingredients in a bowl, mix w...   \n",
       "4                                     Semolina Kulfi   \n",
       "\n",
       "                                            question  \\\n",
       "0                     Garlic powder,Salt,Cooking oil   \n",
       "1  cream,flour,onion,green chilli,tumeric,powder,...   \n",
       "2  garlic,carrots,parsnips,curry powder,rice,chat...   \n",
       "3  flour,garlic,coriander,chilli powder,garam mas...   \n",
       "4   semolina,khoya,cooking oil,cardamon powder,water   \n",
       "\n",
       "                                            contexts  \n",
       "0  1 minced garlic clove  \\n1 tsp. finely grated ...  \n",
       "1  ½ capsicum + 1 green chilli + ½ cup  water mea...  \n",
       "2  Vada \\nSambhar\\nFOR SAMBHAR\\nToor dal ½ cup \\n...  \n",
       "3  Hing ¼ tsp\\n82\\nFOR BATTERCabbage 1 small\\nCap...  \n",
       "4  recipe book - grange town primary school\\npage...  "
      ]
     },
     "execution_count": 1,
     "metadata": {},
     "output_type": "execute_result"
    }
   ],
   "source": [
    "import pandas as pd\n",
    "evaluatedf = pd.read_csv(\"D:/Studydoc/BitsProject/Recipe_Cookbook/evaluate_Llama2.csv\")\n",
    "evaluatedf.rename(columns = {'Unnamed: 0':'ground_truth'}, inplace = True) \n",
    "evaluatedf.rename(columns = {'context':'contexts'}, inplace = True) \n",
    "\n",
    "#evaluatedf.to_csv(\"preeval.csv\")\n",
    "evaldf = evaluatedf.iloc[:,[1,2,3]]\n",
    "evaldf.head()"
   ]
  },
  {
   "cell_type": "markdown",
   "metadata": {},
   "source": [
    "hallucination_evaluation_model"
   ]
  },
  {
   "cell_type": "code",
   "execution_count": 2,
   "metadata": {},
   "outputs": [
    {
     "data": {
      "text/plain": [
       "[['1. Combine all ingredients in a pot, then cover with water or broth. Cook on medium heat until rice is done.\"',\n",
       "  '1 minced garlic clove  \\n1 tsp. finely grated lime zest  \\n2 T. lime juice  \\n½ tsp. kosher salt  \\n2 T. minced cilantro (optional and after cooking)  \\n \\n1. Combi ne all ingredients except the cilantro and cook in a rice cooker.   \\n2. Add cilantro if desired after rice is finished cooking.1 minced garlic clove  \\n1 tsp. finely grated lime zest  \\n2 T. lime juice  \\n½ tsp. kosher salt  \\n2 T. minced cilantro (optional and after cooking)  \\n \\n1. Combi ne all ingredients except the cilantro and cook in a rice cooker.   \\n2. Add cilantro if desired after rice is finished cooking.'],\n",
       " ['Cream Prawns Recipe - How to make Cream Prawns Recipe in Indian Cooking at Kitchen Tadka. Cream prawn recipe with step-by-step instructions, cooking tips and videos on',\n",
       "  '½ capsicum + 1 green chilli + ½ cup  water measured in big sized coﬀee mug)Khaskhas/ poppy seeds paste (8-10 tsp  poppy seeds + ½ cup water  measured in big sized coﬀee mug)Onion paste 1 onion\\nGreen chillies As per taste\\nTurmeric / haldi 1 tsp \\nSalt {1 tsp salt for marinating prawns  3 tsp  and 2 tsp salt for cooking}Red chilli powder 1 tsp \\nMustard oil 2 tsp\\nNote\\nCover the top with parchment paper to avoid ice crystal on top.\\nBACK TO INDEX½ capsicum + 1 green chilli + ½ cup  water measured in big sized coﬀee mug)Khaskhas/ poppy seeds paste (8-10 tsp  poppy seeds + ½ cup water  measured in big sized coﬀee mug)Onion paste 1 onion\\nGreen chillies As per taste\\nTurmeric / haldi 1 tsp \\nSalt {1 tsp salt for marinating prawns  3 tsp  and 2 tsp salt for cooking}Red chilli powder 1 tsp \\nMustard oil 2 tsp\\nNote\\nCover the top with parchment paper to avoid ice crystal on top.\\nBACK TO INDEX'],\n",
       " ['Sambar:\\n1) Roast chana',\n",
       "  'Vada \\nSambhar\\nFOR SAMBHAR\\nToor dal ½ cup \\nTomato 1\\nTurmeric / haldi ¼ tsp \\nWater 1½ cup \\nOil 3 tsp \\nMustard / rai 1 tsp \\nHing / asaofetida A pinch of \\nDried red chilli 1 \\nCurry leaves few \\nGreen chilli, slit 2 \\nOnion, petals ½ \\nTamarind extract ½ cup Jaggery / gud ½ tsp \\nSalt 1 tsp \\nWater 1½ cup \\nSambar powder 1 tbsp \\nGhee / clari/f_ied butter 1 tbsp FOR VADA\\nUrad dal 1 cupVada \\nSambhar\\nFOR SAMBHAR\\nToor dal ½ cup \\nTomato 1\\nTurmeric / haldi ¼ tsp \\nWater 1½ cup \\nOil 3 tsp \\nMustard / rai 1 tsp \\nHing / asaofetida A pinch of \\nDried red chilli 1 \\nCurry leaves few \\nGreen chilli, slit 2 \\nOnion, petals ½ \\nTamarind extract ½ cup Jaggery / gud ½ tsp \\nSalt 1 tsp \\nWater 1½ cup \\nSambar powder 1 tbsp \\nGhee / clari/f_ied butter 1 tbsp FOR VADA\\nUrad dal 1 cup'],\n",
       " ['Combine all these ingredients in a bowl, mix well. Add 1 cup water to it and let it sit for some time before using it to coat the vegetables before cooking them.\"',\n",
       "  'Hing ¼ tsp\\n82\\nFOR BATTERCabbage 1 small\\nCapsicum 1\\nOnion 1-2\\nCarrot 1-2\\nCoriander leaves ..Green chilli  1-2\\nSuji/Rava 1 cup\\nSalt ½ tsp\\nGaram masala powder ½ tspBlack pepper ¼tsp\\nChilli /f_lakes ½tsp\\nFresh curd 1/4 cup\\nBACK TO INDEXHing ¼ tsp\\n82\\nFOR BATTERCabbage 1 small\\nCapsicum 1\\nOnion 1-2\\nCarrot 1-2\\nCoriander leaves ..Green chilli  1-2\\nSuji/Rava 1 cup\\nSalt ½ tsp\\nGaram masala powder ½ tspBlack pepper ¼tsp\\nChilli /f_lakes ½tsp\\nFresh curd 1/4 cup\\nBACK TO INDEX'],\n",
       " ['Semolina Kulfi',\n",
       "  'recipe book - grange town primary school\\npage 20\\nINGREDIENT\\n2 cups sugar\\n1/2 cup semolina / rava7-8 strains saffron700 grams khoya400 grams refined cooking oil 2 cups water1 teaspoon cardamon powderBanglaya culinary style originating in Bengal, a region in the \\neastern part of the Indian subcontinent, which is \\nnow divided between Bangladesh and West Bengal\\nsubtle (yet sometimes fiery) flavours\\nCOOKING STEP\\n1 Mix the semolina with khoya thoroughlyrecipe book - grange town primary school\\npage 20\\nINGREDIENT\\n2 cups sugar\\n1/2 cup semolina / rava7-8 strains saffron700 grams khoya400 grams refined cooking oil 2 cups water1 teaspoon cardamon powderBanglaya culinary style originating in Bengal, a region in the \\neastern part of the Indian subcontinent, which is \\nnow divided between Bangladesh and West Bengal\\nsubtle (yet sometimes fiery) flavours\\nCOOKING STEP\\n1 Mix the semolina with khoya thoroughly'],\n",
       " ['Make cookies with 1 cup of powdered sugar. Cream butter and sugar together until creamy. Mix in cocoa, egg whites and coffee. Sift flour into a bowl. Add vanilla essence to melted chocolate, then mix with flour and fold into the wet mixture. Bake at 350 degree Fahrenheit for about 20 minutes or until a tester comes out clean. Dust with cocoa powder once cooled.\\nNote: You will need to adjust amount of coffee to your taste as it can be quite strong.\"',\n",
       "  'Powdered Sugar 1 cup  (brown sugar + (3/4 cup + white sugar) 1/4 cup)Unsalted Butter 100 g Vanilla essence 1 tsp Dark chocolate 1 cup Eggs 2 \\nCocoa powder for dusting 1 tbsp \\nCREATIVITY IN ADVERSITY\\n 7\\nBACK TO INDEXPowdered Sugar 1 cup  (brown sugar + (3/4 cup + white sugar) 1/4 cup)Unsalted Butter 100 g Vanilla essence 1 tsp Dark chocolate 1 cup Eggs 2 \\nCocoa powder for dusting 1 tbsp \\nCREATIVITY IN ADVERSITY\\n 7\\nBACK TO INDEX'],\n",
       " ['For 8 servings  \\nMelt butter in a heavy saucepan over medium heat; add onion and garlic and cook until the onion is translucent. Cook for about 10 minutes or until tender. Add potatoes and leeks; cook for about 30 minutes or until done. Remove from heat and puree in',\n",
       "  '70 \\n \\n \\n Broccoli and Aged Cheddar Soup  \\n \\n½ yellow  onion, chopped  \\n3 large garlic cloves, minced  \\nOlive oil or butter  \\n1 head of broccoli and stem, woody part of stem removed and cut into smaller pieces  \\n2 palm size Yukon gold potatoes, peeled and cubed  \\n1 large leaf of chard, chopped  \\n2 cups vegetable or chick en stock (can be made canned or made from bouillon)  \\n1 cup cream, half and half, or milk  \\n½ to 1 cup aged cheddar cheese  \\nSalt and pepper to taste70 \\n \\n \\n Broccoli and Aged Cheddar Soup  \\n \\n½ yellow  onion, chopped  \\n3 large garlic cloves, minced  \\nOlive oil or butter  \\n1 head of broccoli and stem, woody part of stem removed and cut into smaller pieces  \\n2 palm size Yukon gold potatoes, peeled and cubed  \\n1 large leaf of chard, chopped  \\n2 cups vegetable or chick en stock (can be made canned or made from bouillon)  \\n1 cup cream, half and half, or milk  \\n½ to 1 cup aged cheddar cheese  \\nSalt and pepper to taste'],\n",
       " ['Mix mango puree with 3 tbsp sugar, then add water to make a syrup. Pour over bread slices and cut into wedges. To make whipped cream, beat eggs, add 2 tablespoons caster sugar, 1 tablespoon vanilla extract and pour on top of fruit.\"',\n",
       "  '55\\nMango 1 1/2 /f_inely chopped \\nMango puree 1/2 \\nSugar 3 tbsp\\nWater 4 tbsp\\nBread slices 12Whipping cream 1 1/2 cup\\nBACK TO INDEX55\\nMango 1 1/2 /f_inely chopped \\nMango puree 1/2 \\nSugar 3 tbsp\\nWater 4 tbsp\\nBread slices 12Whipping cream 1 1/2 cup\\nBACK TO INDEX'],\n",
       " ['Mix Jaggery and small cardamom; roast them in oil. Add mushroom pieces to it. Heat until the jaggery melts completely and turn brownish-black. Turn off the heat when it reaches this point.\" ',\n",
       "  'Jaggery /Sugar 150gm \\n Oil t o fry\\nDEVELOPED BY\\nKrishi Vigyan Kendra Harnaut (Nalanda)Jaggery /Sugar 150gm \\n Oil t o fry\\nDEVELOPED BY\\nKrishi Vigyan Kendra Harnaut (Nalanda)'],\n",
       " ['Coffee milkshake.\"',\n",
       "  'Milk 2.5 to 3 cups \\n(you can also use soy milk or almond \\nmilk or cashew milk. i used cashew milk.)\\nCoconut sugar or unre/f_ined organic cane Sugar As required\\nIce cubes (optional) Few \\n76\\nBACK TO INDEXMilk 2.5 to 3 cups \\n(you can also use soy milk or almond \\nmilk or cashew milk. i used cashew milk.)\\nCoconut sugar or unre/f_ined organic cane Sugar As required\\nIce cubes (optional) Few \\n76\\nBACK TO INDEX'],\n",
       " ['To make dough, grind together whole wheat flour and powdered sugar. Heat ghee and jaggery, once they are melted add it to the ground mixture and mix well.\\nNote: I do not know if this recipe is correct or not, please try it at your own risk.\"',\n",
       "  'Jaggery 40g Mrs Ankita Debnath is a B.Tech (Biotechnology) Graduate and an ISO 27001 certi/f_ied auditor in Information Security management systems. She is multitalented and besides being a good cook she is also a trained dancer. She is an active member of NWWA and gives belly dance and Natyashastra dance lessons in Karwar.\\nMrs Ankita Debnath\\nNSRY Karwar\\nCREATIVITY IN ADVERSITYTo make dough\\nWhole wheat /f_lour 1&1/2 Kg Powdered sugar  3 tbsp\\n(from 40g of Powdered sugar)Jaggery 40g Mrs Ankita Debnath is a B.Tech (Biotechnology) Graduate and an ISO 27001 certi/f_ied auditor in Information Security management systems. She is multitalented and besides being a good cook she is also a trained dancer. She is an active member of NWWA and gives belly dance and Natyashastra dance lessons in Karwar.\\nMrs Ankita Debnath\\nNSRY Karwar\\nCREATIVITY IN ADVERSITYTo make dough\\nWhole wheat /f_lour 1&1/2 Kg Powdered sugar  3 tbsp\\n(from 40g of Powdered sugar)'],\n",
       " ['Hummus dip with groundnuts, beans, cheese and cream cheese. (Groundnut butter and oil)\\n\\nHope you enjoy this recipe!',\n",
       "  'hummus, beans, cheese, cream cheese, etc.)hummus, beans, cheese, cream cheese, etc.)'],\n",
       " ['To prepare this dish you will need to start with 1 cup of legumes that have been cooked and mashed (such as kidney beans). You will also need a small amount of milk powder, a tablespoon or two of sugar, and a teaspoon of vitamin oil. Mash these ingredients together using a fork until they are well blended, then add the following: 1/2 cup of hummus, 1/4 cup of cheese cream, 1/4 cup of cream cheese, 1 tablespoon of finely chopped onion and any other desired ingredients. Mash it all together well with your hands until it reaches a smooth consistency.',\n",
       "  'hummus, beans, cheese, cream cheese, etc.)hummus, beans, cheese, cream cheese, etc.)'],\n",
       " ['This is a very good recipe to keep you',\n",
       "  '½ capsicum + 1 green chilli + ½ cup  water measured in big sized coﬀee mug)Khaskhas/ poppy seeds paste (8-10 tsp  poppy seeds + ½ cup water  measured in big sized coﬀee mug)Onion paste 1 onion\\nGreen chillies As per taste\\nTurmeric / haldi 1 tsp \\nSalt {1 tsp salt for marinating prawns  3 tsp  and 2 tsp salt for cooking}Red chilli powder 1 tsp \\nMustard oil 2 tsp\\nNote\\nCover the top with parchment paper to avoid ice crystal on top.\\nBACK TO INDEX½ capsicum + 1 green chilli + ½ cup  water measured in big sized coﬀee mug)Khaskhas/ poppy seeds paste (8-10 tsp  poppy seeds + ½ cup water  measured in big sized coﬀee mug)Onion paste 1 onion\\nGreen chillies As per taste\\nTurmeric / haldi 1 tsp \\nSalt {1 tsp salt for marinating prawns  3 tsp  and 2 tsp salt for cooking}Red chilli powder 1 tsp \\nMustard oil 2 tsp\\nNote\\nCover the top with parchment paper to avoid ice crystal on top.\\nBACK TO INDEX'],\n",
       " ['To prepare this rice flour based infant formula complementary food, combine all ingredients in a bowl until well mixed. Then transfer the mixture to a cooking pot with a capacity of about 1 litre or more (water level 60%), and heat',\n",
       "  'rice\\tflour,\\tprotein\\tisolate,\\tdried\\tand\\t\\npowdered\\tspinach,\\tcarrot;\\tskim\\tmilk\\t\\npowder,\\tsalt\\tand\\tsugar)\\n\\t Mixing\\tof\\tall\\tingredients\\t Homogenization \\tthrough\\tsifting\\n\\t Packing\\n\\t Storage P otato powder 28%\\n Rice flour 65%\\n Pr otein isolates 7%\\n Carr ot 3%\\n Spinach 3%\\n Skimmed milk 10%\\n Sug ar 10%\\n Salt 1%\\nPOT A TO FLOUR BASED INF ANT  COMPLEMENT AR Y FOODrice\\tflour,\\tprotein\\tisolate,\\tdried\\tand\\t\\npowdered\\tspinach,\\tcarrot;\\tskim\\tmilk\\t\\npowder,\\tsalt\\tand\\tsugar)\\n\\t Mixing\\tof\\tall\\tingredients\\t Homogenization \\tthrough\\tsifting\\n\\t Packing\\n\\t Storage P otato powder 28%\\n Rice flour 65%\\n Pr otein isolates 7%\\n Carr ot 3%\\n Spinach 3%\\n Skimmed milk 10%\\n Sug ar 10%\\n Salt 1%\\nPOT A TO FLOUR BASED INF ANT  COMPLEMENT AR Y FOOD'],\n",
       " ['Boil egg in potato for 10 minutes.  Cube and mix with cheese and bacon bits.   Serve with Green Pepper and Salsa on top.\"',\n",
       "  'hummus, beans, cheese, cream cheese, etc.)hummus, beans, cheese, cream cheese, etc.)'],\n",
       " [\"Here's a quick salad that incorporates some of the flavors you mentioned. In a large bowl, combine 4 cups mixed greens, chopped red onion and celery; toss with a simple vinaigrette (3 parts olive oil to 1 part rice vinegar). Top with sliced grilled chicken breast.\",\n",
       "  '2. Spinach/romaine mixed with red onion, mandarin oranges, almonds an d ginger sesame \\ndressing. Top with sliced grilled chicken for some extra protein.  \\n \\n3. Spinach/romaine lettuce mixed with onions, peas,  celery, carrots, olives, and light balsamic \\nvinaigrette. Top with sliced boiled egg for extra protein.  \\n \\n4. Romaine/spinac h with green onion, grated parmesan cheese, croutons, and Caesar dressing.2. Spinach/romaine mixed with red onion, mandarin oranges, almonds an d ginger sesame \\ndressing. Top with sliced grilled chicken for some extra protein.  \\n \\n3. Spinach/romaine lettuce mixed with onions, peas,  celery, carrots, olives, and light balsamic \\nvinaigrette. Top with sliced boiled egg for extra protein.  \\n \\n4. Romaine/spinac h with green onion, grated parmesan cheese, croutons, and Caesar dressing.'],\n",
       " ['Mix in 1 tsp of red chilli powder (if desired), salt and 2-3 chopped green chillies to taste with boiling water, then add to quinoa.\"',\n",
       "  'Red chilli powder 1 tspHaldi 1/2 tsp\\nDhaniya powder 3/4 tspCumin powder  1/2 tspGaram masala 1/4 tspGreen chillies  1-2\\n (chopped)\\nGinger 1 inch\\nGarlic 2-3 cloves\\nBACK TO INDEXRed chilli powder 1 tspHaldi 1/2 tsp\\nDhaniya powder 3/4 tspCumin powder  1/2 tspGaram masala 1/4 tspGreen chillies  1-2\\n (chopped)\\nGinger 1 inch\\nGarlic 2-3 cloves\\nBACK TO INDEX'],\n",
       " ['Rinse red lentils under cold water and soak for 20 minutes, then drain and rinse again.\\nIn a large saucepan, cook over medium-high heat.\\nAdd oil, onion, carrots, celery and garlic. Cook until vegetables are tender.\\nAdd curry powder and lentils; stir to coat.\\nReduce heat to low.\\nSimmer for 15 minutes or until liquid is absorbed by the lentil mixture.',\n",
       "  'Mayonnaise (plain or flavored)  \\nRanch or other salad dressings  \\nSalsa \\nGuacamole  \\nMashed beans  \\n \\nProtein:  \\nDeli meat  \\nGrilled chicken  \\nCooked egg  \\nSausage  \\nRoasted turkey or other meat  \\nTuna  \\nCheese  \\nBeans  \\nTofu  \\nVeggie Burgers \\nEgg salad (or chicken salad)  \\nLentils  \\n \\nVegetables:  \\nLettuce  \\nSpinachMayonnaise (plain or flavored)  \\nRanch or other salad dressings  \\nSalsa \\nGuacamole  \\nMashed beans  \\n \\nProtein:  \\nDeli meat  \\nGrilled chicken  \\nCooked egg  \\nSausage  \\nRoasted turkey or other meat  \\nTuna  \\nCheese  \\nBeans  \\nTofu  \\nVeggie Burgers \\nEgg salad (or chicken salad)  \\nLentils  \\n \\nVegetables:  \\nLettuce  \\nSpinach'],\n",
       " ['1 cup brown sugar (white or light brown)\\n2 tsp baking soda\\n5 Tbsp vegetable oil\\n4 cups milk (whole milk)\\n3 large eggs\\n3 Tbsp vanilla extract\\n6 tsp cinnamon\\n6 tsp nutmeg, freshly grated\\n1/2 tsp salt\\nWalnuts, chopped 1 cup',\n",
       "  'Baking soda 1 tsp\\nBrown sugar 1 cup\\nVanilla essence 1 tsp\\nOlive oil 1/2 cup\\nMilk 1 cup\\nVinegar (you can also use  2 tsp\\n lemon juice)\\nBanana (ripe) 3\\nCardamon powder 1 tsp\\nSalt 1 tsp\\nWalnuts (optional) 1/2 cup\\nBACK TO INDEXBaking soda 1 tsp\\nBrown sugar 1 cup\\nVanilla essence 1 tsp\\nOlive oil 1/2 cup\\nMilk 1 cup\\nVinegar (you can also use  2 tsp\\n lemon juice)\\nBanana (ripe) 3\\nCardamon powder 1 tsp\\nSalt 1 tsp\\nWalnuts (optional) 1/2 cup\\nBACK TO INDEX'],\n",
       " ['\\nPlace all of these ingredients in a bowl with enough water to cover them. Bring the liquid to boil, then remove from heat and let it cool until it thickens. Then add more hot water, mix well and place dough in an oiled bowl. Cover with foil and leave for 24 hours, or overnight, if possible.\"\\n\\nDo you want me to generate a recipe using the ingredients provided?',\n",
       "  'Baking soda 1 tsp\\nBrown sugar 1 cup\\nVanilla essence 1 tsp\\nOlive oil 1/2 cup\\nMilk 1 cup\\nVinegar (you can also use  2 tsp\\n lemon juice)\\nBanana (ripe) 3\\nCardamon powder 1 tsp\\nSalt 1 tsp\\nWalnuts (optional) 1/2 cup\\nBACK TO INDEXBaking soda 1 tsp\\nBrown sugar 1 cup\\nVanilla essence 1 tsp\\nOlive oil 1/2 cup\\nMilk 1 cup\\nVinegar (you can also use  2 tsp\\n lemon juice)\\nBanana (ripe) 3\\nCardamon powder 1 tsp\\nSalt 1 tsp\\nWalnuts (optional) 1/2 cup\\nBACK TO INDEX'],\n",
       " ['\\nMix cream, cream cheese, red color until well blended and frothy. Pour into ice cream maker and freeze according to manufacturer\\'s instructions.\"',\n",
       "  'Brownie....................................................................................................................................................................Red Velvet Ice cream .........................................................................................................................................................Butterscotch IceBrownie....................................................................................................................................................................Red Velvet Ice cream .........................................................................................................................................................Butterscotch Ice'],\n",
       " ['Mix 2 cups of water, 1 teaspoon baking soda (dry) with sugar in a deep bowl. Whisk it well and let it sit at least 6 hours or overnight. Next, heat the oven to 350°F. Line an 8-inch square cake pan with parchment paper. Pour the batter into the prepared pan. You will have enough batter for a full-sized cake. Bake until golden brown at 40 minutes. Then take it out of the oven and let it cool. Next, you can make walnut cream sauce (optional).\\nWalnuts (optional) 1/2 cup (you may use either chopped or sliced walnuts). Mash the walnuts using a sp',\n",
       "  'Baking soda 1 tsp\\nBrown sugar 1 cup\\nVanilla essence 1 tsp\\nOlive oil 1/2 cup\\nMilk 1 cup\\nVinegar (you can also use  2 tsp\\n lemon juice)\\nBanana (ripe) 3\\nCardamon powder 1 tsp\\nSalt 1 tsp\\nWalnuts (optional) 1/2 cup\\nBACK TO INDEXBaking soda 1 tsp\\nBrown sugar 1 cup\\nVanilla essence 1 tsp\\nOlive oil 1/2 cup\\nMilk 1 cup\\nVinegar (you can also use  2 tsp\\n lemon juice)\\nBanana (ripe) 3\\nCardamon powder 1 tsp\\nSalt 1 tsp\\nWalnuts (optional) 1/2 cup\\nBACK TO INDEX'],\n",
       " ['Clean and wash prawns in water. Drain completely. \\nDry them with a clean cloth or paper towel for about 5 minutes, after removing excess moisture. Add salt for marinating prawn',\n",
       "  '½ capsicum + 1 green chilli + ½ cup  water measured in big sized coﬀee mug)Khaskhas/ poppy seeds paste (8-10 tsp  poppy seeds + ½ cup water  measured in big sized coﬀee mug)Onion paste 1 onion\\nGreen chillies As per taste\\nTurmeric / haldi 1 tsp \\nSalt {1 tsp salt for marinating prawns  3 tsp  and 2 tsp salt for cooking}Red chilli powder 1 tsp \\nMustard oil 2 tsp\\nNote\\nCover the top with parchment paper to avoid ice crystal on top.\\nBACK TO INDEX½ capsicum + 1 green chilli + ½ cup  water measured in big sized coﬀee mug)Khaskhas/ poppy seeds paste (8-10 tsp  poppy seeds + ½ cup water  measured in big sized coﬀee mug)Onion paste 1 onion\\nGreen chillies As per taste\\nTurmeric / haldi 1 tsp \\nSalt {1 tsp salt for marinating prawns  3 tsp  and 2 tsp salt for cooking}Red chilli powder 1 tsp \\nMustard oil 2 tsp\\nNote\\nCover the top with parchment paper to avoid ice crystal on top.\\nBACK TO INDEX'],\n",
       " ['To make banana muffins without overmixing the batter (causes a dense, dry finish), creamy consistency for frosting, etc., gently fold flour into wet ingredients. ',\n",
       "  '1 ¾ c flour  \\n¼ cup sugar or mashed ripe bananas  \\n2 tsp. baking powder  \\n½ tsp. salt  \\n¾ cup milk  \\n1/3 cup oil (or substitute with plain low -fat Greek or regular yogurt)  \\n1 egg lightly beaten1 ¾ c flour  \\n¼ cup sugar or mashed ripe bananas  \\n2 tsp. baking powder  \\n½ tsp. salt  \\n¾ cup milk  \\n1/3 cup oil (or substitute with plain low -fat Greek or regular yogurt)  \\n1 egg lightly beaten'],\n",
       " ['Mix all dry ingredients together with a whisk until well combined. Then put the candy molds on a cookie sheet that has been covered in aluminum foil. Add the butter to the powdered sugar and mix it completely by hand, then pour the mixture into the mold.\\nCover with plastic wrap and chill at room temperature overnight and enjoy!\", \"The recipe is a great way to make homemade chocolate covered marshmallows.\"]',\n",
       "  'Sugar syrup 1/2 cup powdered sugar + \\n   2 tsp lemon juice)\\nBaking powder 1 tsp \\nBaking soda 1/4th tsp \\nCocoa powder 1 tsp \\nCoﬀee powder 1 tsp \\nMilk 3 cups \\nButter 1 cup \\nBACK TO INDEXSugar syrup 1/2 cup powdered sugar + \\n   2 tsp lemon juice)\\nBaking powder 1 tsp \\nBaking soda 1/4th tsp \\nCocoa powder 1 tsp \\nCoﬀee powder 1 tsp \\nMilk 3 cups \\nButter 1 cup \\nBACK TO INDEX'],\n",
       " ['Add all the ingredients to a bowl and mix well.',\n",
       "  '½ capsicum + 1 green chilli + ½ cup  water measured in big sized coﬀee mug)Khaskhas/ poppy seeds paste (8-10 tsp  poppy seeds + ½ cup water  measured in big sized coﬀee mug)Onion paste 1 onion\\nGreen chillies As per taste\\nTurmeric / haldi 1 tsp \\nSalt {1 tsp salt for marinating prawns  3 tsp  and 2 tsp salt for cooking}Red chilli powder 1 tsp \\nMustard oil 2 tsp\\nNote\\nCover the top with parchment paper to avoid ice crystal on top.\\nBACK TO INDEX½ capsicum + 1 green chilli + ½ cup  water measured in big sized coﬀee mug)Khaskhas/ poppy seeds paste (8-10 tsp  poppy seeds + ½ cup water  measured in big sized coﬀee mug)Onion paste 1 onion\\nGreen chillies As per taste\\nTurmeric / haldi 1 tsp \\nSalt {1 tsp salt for marinating prawns  3 tsp  and 2 tsp salt for cooking}Red chilli powder 1 tsp \\nMustard oil 2 tsp\\nNote\\nCover the top with parchment paper to avoid ice crystal on top.\\nBACK TO INDEX'],\n",
       " ['To make Tandoori Chicken you need to marinate chicken in a mixture of yogurt, lemon juice or vinegar, cumin seeds, garam masala, cayenne pepper and salt for at',\n",
       "  'One full chicken (remove the skin) 1 kg\\nCooking oil 2 tsp\\nButter 3 -4 tsp\\nCumin seeds/ shahi jeera 2 1/2 tsp\\nChicken liver and gizzard 200 gm each\\nTurmeric/haldi 2 tsp\\nChicken tandoori masala 2 tspChopped tomatoes 2\\nChopped onions 2\\nChopped green chillies 3 - 4\\nCoriander leaves Handful\\nGinger 8 - 10 gm\\nGarlic 8 -10 gm\\nMint leaves (optional) Handful\\nBACK TO INDEXOne full chicken (remove the skin) 1 kg\\nCooking oil 2 tsp\\nButter 3 -4 tsp\\nCumin seeds/ shahi jeera 2 1/2 tsp\\nChicken liver and gizzard 200 gm each\\nTurmeric/haldi 2 tsp\\nChicken tandoori masala 2 tspChopped tomatoes 2\\nChopped onions 2\\nChopped green chillies 3 - 4\\nCoriander leaves Handful\\nGinger 8 - 10 gm\\nGarlic 8 -10 gm\\nMint leaves (optional) Handful\\nBACK TO INDEX'],\n",
       " ['Dissolve 1 teaspoon of salt in 200ml water and bring to a boil.Add all the ingredients except pumpkin and cook for 30 minutes or until thickened.Mash slightly before adding pumpkin.\",You can also add onion,garlic,ginger and chili powder to taste.\"\\nThank you!',\n",
       "  'Red chilli powder 1 tspHaldi 1/2 tsp\\nDhaniya powder 3/4 tspCumin powder  1/2 tspGaram masala 1/4 tspGreen chillies  1-2\\n (chopped)\\nGinger 1 inch\\nGarlic 2-3 cloves\\nBACK TO INDEXRed chilli powder 1 tspHaldi 1/2 tsp\\nDhaniya powder 3/4 tspCumin powder  1/2 tspGaram masala 1/4 tspGreen chillies  1-2\\n (chopped)\\nGinger 1 inch\\nGarlic 2-3 cloves\\nBACK TO INDEX'],\n",
       " ['Mix sugar with vinegar in a large bowl; let it stand overnight. After 24 hours, add water and cardamom to the solution and mix well. Add fitkari and maida to the solution and mix until well combined. Pour mixture into a greased pan or loaf tray and bake at 300 degree Fahrenheit for one hour.\"',\n",
       "  'Baking soda 1 tsp\\nBrown sugar 1 cup\\nVanilla essence 1 tsp\\nOlive oil 1/2 cup\\nMilk 1 cup\\nVinegar (you can also use  2 tsp\\n lemon juice)\\nBanana (ripe) 3\\nCardamon powder 1 tsp\\nSalt 1 tsp\\nWalnuts (optional) 1/2 cup\\nBACK TO INDEXBaking soda 1 tsp\\nBrown sugar 1 cup\\nVanilla essence 1 tsp\\nOlive oil 1/2 cup\\nMilk 1 cup\\nVinegar (you can also use  2 tsp\\n lemon juice)\\nBanana (ripe) 3\\nCardamon powder 1 tsp\\nSalt 1 tsp\\nWalnuts (optional) 1/2 cup\\nBACK TO INDEX'],\n",
       " ['Pour lime juice into a large resealable plastic bag. Add 2/3 cup up fat free Italian salad dressing and mix well. Pour 1 tsp garlic salt in a bowl and set',\n",
       "  '87 \\n \\n \\n Lime Herb Chicken  \\n \\n1 cup  lime juice  \\n2/3 c up fat free Italian salad dressing  \\n2 tsp. minced garlic (tsp. garlic salt)  \\n2 tsp. dried basil  \\n1 tsp. dried thyme  \\n½ tsp. salt  \\n½ tsp. pepper  \\n3-4 boneless, skinless chicken breasts  \\n \\n1. In a bowl, c ombine first seven ingredients and mix well. Pour 1 cup marinade into a large \\nreseal- able  plastic bag. A dd the chicken  to the mixture . Seal bag and turn to coat.87 \\n \\n \\n Lime Herb Chicken  \\n \\n1 cup  lime juice  \\n2/3 c up fat free Italian salad dressing  \\n2 tsp. minced garlic (tsp. garlic salt)  \\n2 tsp. dried basil  \\n1 tsp. dried thyme  \\n½ tsp. salt  \\n½ tsp. pepper  \\n3-4 boneless, skinless chicken breasts  \\n \\n1. In a bowl, c ombine first seven ingredients and mix well. Pour 1 cup marinade into a large \\nreseal- able  plastic bag. A dd the chicken  to the mixture . Seal bag and turn to coat.'],\n",
       " ['Instructions:\\n\\n1. Heat milk over medium heat to 130°F. (This is very important because oats must be cooked in hot liquid.)\\n2. Remove from heat and add chia seeds, vanilla and salt. Stir until smooth.\\n3. Pour into a bowl with the following mix -ins (optional).\\n4. Serve as a breakfast bowl, cereal or snack.\\n\\nThis',\n",
       "  '½ cup  rolled oats  \\n2/3 cup milk of choice (if using soy, rice, almond, or another non -dairy milk use unsweetened)  \\n1 tbsp. chia seeds or ground flax seeds  \\n½ tsp. vanilla extract  \\nPinch of salt  \\nUp to 2 tbsp. honey or maple syrup  \\n \\nOptional Mix -ins (these can be added before refrigerating or as toppings later) : \\nFruit (bananas, berries , peaches, apple chunks ) \\nNut butter  \\nCocoa powder  \\nCoconut  \\nNuts½ cup  rolled oats  \\n2/3 cup milk of choice (if using soy, rice, almond, or another non -dairy milk use unsweetened)  \\n1 tbsp. chia seeds or ground flax seeds  \\n½ tsp. vanilla extract  \\nPinch of salt  \\nUp to 2 tbsp. honey or maple syrup  \\n \\nOptional Mix -ins (these can be added before refrigerating or as toppings later) : \\nFruit (bananas, berries , peaches, apple chunks ) \\nNut butter  \\nCocoa powder  \\nCoconut  \\nNuts'],\n",
       " ['Boil the spinach with water in a pressure cooker for 3-4 minutes. Then blend it to form a paste with green chilly and ginger. Add salt, garlic, cumin powder, coriander powder, and turmeric. Heat this mixture on low flame for 5-6 minutes until you smell the fragrance of spices. Add oil when done.\"\\n\\nThis recipe is an easy and quick way to make spinach chutney using fresh ingredients.\"',\n",
       "  'Red chilli powder 1 tspHaldi 1/2 tsp\\nDhaniya powder 3/4 tspCumin powder  1/2 tspGaram masala 1/4 tspGreen chillies  1-2\\n (chopped)\\nGinger 1 inch\\nGarlic 2-3 cloves\\nBACK TO INDEXRed chilli powder 1 tspHaldi 1/2 tsp\\nDhaniya powder 3/4 tspCumin powder  1/2 tspGaram masala 1/4 tspGreen chillies  1-2\\n (chopped)\\nGinger 1 inch\\nGarlic 2-3 cloves\\nBACK TO INDEX'],\n",
       " ['Heat jaggery till it melts completely, then add ghee and water; mix well. Pour in a hot pan greased with ghee.',\n",
       "  '269\\nTarget Group and \\nBenefitsIngredients\\n\\t All\\tage\\tgroup\\tpeople\\nMethod of Preparation\\n\\t Heat\\tjaggery\\ttill\\tit\\tmelts.\\n\\t Mix\\tall\\tingredients \\tinto\\tmelted\\tjaggery\\tafter\\t\\ncrushing.\\n\\t Form\\tbars\\tfrom\\tthe\\tmixture.\\n\\t Store\\tand\\tpack. Jaggery\\n Liq uid glucose\\n Ghee\\n Peanuts\\n R oasted Bengal gram\\n Corn flak es\\n Puff ed rice\\n Spirulina \\n Coc onut flakes\\nDEVELOPED BY\\nCentre of Food Science and Technology, IAS, BHU, Varanasi.HIGH PROTEIN SPIRULINA  BAR269\\nTarget Group and \\nBenefitsIngredients\\n\\t All\\tage\\tgroup\\tpeople\\nMethod of Preparation\\n\\t Heat\\tjaggery\\ttill\\tit\\tmelts.\\n\\t Mix\\tall\\tingredients \\tinto\\tmelted\\tjaggery\\tafter\\t\\ncrushing.\\n\\t Form\\tbars\\tfrom\\tthe\\tmixture.\\n\\t Store\\tand\\tpack. Jaggery\\n Liq uid glucose\\n Ghee\\n Peanuts\\n R oasted Bengal gram\\n Corn flak es\\n Puff ed rice\\n Spirulina \\n Coc onut flakes\\nDEVELOPED BY\\nCentre of Food Science and Technology, IAS, BHU, Varanasi.HIGH PROTEIN SPIRULINA  BAR'],\n",
       " ['1 tsp bicarbonate of soda and 2 tsp vanilla essence can be mixed with one cup brown sugar; one cup of milk can be poured into a bowl where you mix well; pour into an oiled loaf pan; cook for 10 minutes at 350 degrees Fahrenheit until the cake is brown.\\n\\nThis recipe works better if you cut the banana into chunks first, then mash them with a fork, as this makes it easier to stir in the dry ingredients.\",\\n\"You can add one cup of chopped walnuts when cooking\",\\n\"or one tsp. of cardamon powder.\"]',\n",
       "  'Baking soda 1 tsp\\nBrown sugar 1 cup\\nVanilla essence 1 tsp\\nOlive oil 1/2 cup\\nMilk 1 cup\\nVinegar (you can also use  2 tsp\\n lemon juice)\\nBanana (ripe) 3\\nCardamon powder 1 tsp\\nSalt 1 tsp\\nWalnuts (optional) 1/2 cup\\nBACK TO INDEXBaking soda 1 tsp\\nBrown sugar 1 cup\\nVanilla essence 1 tsp\\nOlive oil 1/2 cup\\nMilk 1 cup\\nVinegar (you can also use  2 tsp\\n lemon juice)\\nBanana (ripe) 3\\nCardamon powder 1 tsp\\nSalt 1 tsp\\nWalnuts (optional) 1/2 cup\\nBACK TO INDEX']]"
      ]
     },
     "execution_count": 2,
     "metadata": {},
     "output_type": "execute_result"
    }
   ],
   "source": [
    "merged_data = evaluatedf.apply(lambda row: [row['answer'], row['contexts']], axis=1).tolist()\n",
    "merged_data"
   ]
  },
  {
   "cell_type": "code",
   "execution_count": 3,
   "metadata": {},
   "outputs": [
    {
     "data": {
      "text/plain": [
       "array([0.99697423, 0.98672825, 0.7923359 , 0.5051958 , 0.99816763,\n",
       "       0.61334324, 0.9577023 , 0.33188167, 0.09123109, 0.9677434 ,\n",
       "       0.92108464, 0.9591743 , 0.7738033 , 0.9929946 , 0.44885874,\n",
       "       0.6274216 , 0.8380786 , 0.7374811 , 0.4491636 , 0.73796195,\n",
       "       0.38389608, 0.27075332, 0.40617037, 0.98778397, 0.47082278,\n",
       "       0.07138953, 0.99402773, 0.9624949 , 0.79082054, 0.54110837,\n",
       "       0.9526458 , 0.9609012 , 0.82698405, 0.9842981 , 0.32331896],\n",
       "      dtype=float32)"
      ]
     },
     "execution_count": 3,
     "metadata": {},
     "output_type": "execute_result"
    }
   ],
   "source": [
    "from sentence_transformers import CrossEncoder\n",
    "model = CrossEncoder('vectara/hallucination_evaluation_model') \n",
    "scores = model.predict(merged_data)\n",
    "scores"
   ]
  },
  {
   "cell_type": "code",
   "execution_count": 4,
   "metadata": {},
   "outputs": [
    {
     "name": "stdout",
     "output_type": "stream",
     "text": [
      "[1.  1.  0.8 0.5 1.  0.6 1.  0.3 0.1 1.  0.9 1.  0.8 1.  0.4 0.6 0.8 0.7\n",
      " 0.4 0.7 0.4 0.3 0.4 1.  0.5 0.1 1.  1.  0.8 0.5 1.  1.  0.8 1.  0.3]\n",
      "[99.7 98.7 79.2 50.5 99.8 61.3 95.8 33.2  9.1 96.8 92.1 95.9 77.4 99.3\n",
      " 44.9 62.7 83.8 73.7 44.9 73.8 38.4 27.1 40.6 98.8 47.1  7.1 99.4 96.2\n",
      " 79.1 54.1 95.3 96.1 82.7 98.4 32.3]\n"
     ]
    }
   ],
   "source": [
    "import numpy as np \n",
    "# Convert the values to one decimal point\n",
    "score_one_decimal = np.around(scores, decimals=1)\n",
    "# Convert the values to percentage with one decimal point\n",
    "score_percentage = np.around(scores * 100, decimals=1)\n",
    "\n",
    "print(score_one_decimal)\n",
    "print(score_percentage)"
   ]
  },
  {
   "cell_type": "markdown",
   "metadata": {},
   "source": [
    "cosine_similarity"
   ]
  },
  {
   "cell_type": "code",
   "execution_count": 10,
   "metadata": {},
   "outputs": [
    {
     "name": "stderr",
     "output_type": "stream",
     "text": [
      "C:\\Users\\Bhati\\AppData\\Local\\Temp\\ipykernel_10728\\570293464.py:30: SettingWithCopyWarning: \n",
      "A value is trying to be set on a copy of a slice from a DataFrame.\n",
      "Try using .loc[row_indexer,col_indexer] = value instead\n",
      "\n",
      "See the caveats in the documentation: https://pandas.pydata.org/pandas-docs/stable/user_guide/indexing.html#returning-a-view-versus-a-copy\n",
      "  df['cosine_anscont'] = df.apply(calculate_cosine_similarity, axis=1)\n"
     ]
    }
   ],
   "source": [
    "import pandas as pd\n",
    "from sklearn.metrics.pairwise import cosine_similarity\n",
    "from sklearn.feature_extraction.text import CountVectorizer\n",
    "import numpy as np\n",
    "\n",
    "#df = evaluatedf.iloc[:,[2,3]]\n",
    "#df = evaluatedf.iloc[:,[1,2]]\n",
    "df = evaluatedf.iloc[:,[1,3]]\n",
    "\n",
    "\n",
    "# Function to calculate cosine similarity\n",
    "def calculate_cosine_similarity(row):\n",
    "    # Tokenize sentences in col1 and col2\n",
    "    vectorizer = CountVectorizer().fit_transform([row['contexts'], row['answer']])\n",
    "    vectors = vectorizer.toarray()\n",
    "\n",
    "    # Calculate cosine similarity\n",
    "    similarity = cosine_similarity(vectors)\n",
    "\n",
    "    return similarity[0][1]  # Return the cosine similarity between col1 and col2\n",
    "\n",
    "# Apply the function to each row of the DataFrame\n",
    "#cosine_quescont\n",
    "#df['cosine_quescont'] = df.apply(calculate_cosine_similarity, axis=1)\n",
    "#evaldf['cosine_quescont'] = df['cosine_quescont']\n",
    "#cosine_quesans\n",
    "#df['cosine_quesans'] = df.apply(calculate_cosine_similarity, axis=1)\n",
    "#evaldf['cosine_quesans'] = df['cosine_quesans']\n",
    "#cosine_anscont\n",
    "df['cosine_anscont'] = df.apply(calculate_cosine_similarity, axis=1)\n",
    "evaldf['cosine_anscont'] = df['cosine_anscont']\n",
    "\n"
   ]
  },
  {
   "cell_type": "code",
   "execution_count": 13,
   "metadata": {},
   "outputs": [
    {
     "data": {
      "text/html": [
       "<div>\n",
       "<style scoped>\n",
       "    .dataframe tbody tr th:only-of-type {\n",
       "        vertical-align: middle;\n",
       "    }\n",
       "\n",
       "    .dataframe tbody tr th {\n",
       "        vertical-align: top;\n",
       "    }\n",
       "\n",
       "    .dataframe thead th {\n",
       "        text-align: right;\n",
       "    }\n",
       "</style>\n",
       "<table border=\"1\" class=\"dataframe\">\n",
       "  <thead>\n",
       "    <tr style=\"text-align: right;\">\n",
       "      <th></th>\n",
       "      <th>answer</th>\n",
       "      <th>question</th>\n",
       "      <th>contexts</th>\n",
       "      <th>cosine_quescont</th>\n",
       "      <th>cosine_quesans</th>\n",
       "      <th>cosine_anscont</th>\n",
       "    </tr>\n",
       "  </thead>\n",
       "  <tbody>\n",
       "    <tr>\n",
       "      <th>0</th>\n",
       "      <td>1. Combine all ingredients in a pot, then cove...</td>\n",
       "      <td>Garlic powder,Salt,Cooking oil</td>\n",
       "      <td>1 minced garlic clove  \\n1 tsp. finely grated ...</td>\n",
       "      <td>0.230940</td>\n",
       "      <td>0.000000</td>\n",
       "      <td>0.207322</td>\n",
       "    </tr>\n",
       "    <tr>\n",
       "      <th>1</th>\n",
       "      <td>Cream Prawns Recipe - How to make Cream Prawns...</td>\n",
       "      <td>cream,flour,onion,green chilli,tumeric,powder,...</td>\n",
       "      <td>½ capsicum + 1 green chilli + ½ cup  water mea...</td>\n",
       "      <td>0.241355</td>\n",
       "      <td>0.147442</td>\n",
       "      <td>0.130482</td>\n",
       "    </tr>\n",
       "    <tr>\n",
       "      <th>2</th>\n",
       "      <td>Sambar:\\n1) Roast chana</td>\n",
       "      <td>garlic,carrots,parsnips,curry powder,rice,chat...</td>\n",
       "      <td>Vada \\nSambhar\\nFOR SAMBHAR\\nToor dal ½ cup \\n...</td>\n",
       "      <td>0.068120</td>\n",
       "      <td>0.000000</td>\n",
       "      <td>0.055620</td>\n",
       "    </tr>\n",
       "    <tr>\n",
       "      <th>3</th>\n",
       "      <td>Combine all these ingredients in a bowl, mix w...</td>\n",
       "      <td>flour,garlic,coriander,chilli powder,garam mas...</td>\n",
       "      <td>Hing ¼ tsp\\n82\\nFOR BATTERCabbage 1 small\\nCap...</td>\n",
       "      <td>0.420239</td>\n",
       "      <td>0.000000</td>\n",
       "      <td>0.128671</td>\n",
       "    </tr>\n",
       "    <tr>\n",
       "      <th>4</th>\n",
       "      <td>Semolina Kulfi</td>\n",
       "      <td>semolina,khoya,cooking oil,cardamon powder,water</td>\n",
       "      <td>recipe book - grange town primary school\\npage...</td>\n",
       "      <td>0.296267</td>\n",
       "      <td>0.267261</td>\n",
       "      <td>0.158362</td>\n",
       "    </tr>\n",
       "  </tbody>\n",
       "</table>\n",
       "</div>"
      ],
      "text/plain": [
       "                                              answer  \\\n",
       "0  1. Combine all ingredients in a pot, then cove...   \n",
       "1  Cream Prawns Recipe - How to make Cream Prawns...   \n",
       "2                            Sambar:\\n1) Roast chana   \n",
       "3  Combine all these ingredients in a bowl, mix w...   \n",
       "4                                     Semolina Kulfi   \n",
       "\n",
       "                                            question  \\\n",
       "0                     Garlic powder,Salt,Cooking oil   \n",
       "1  cream,flour,onion,green chilli,tumeric,powder,...   \n",
       "2  garlic,carrots,parsnips,curry powder,rice,chat...   \n",
       "3  flour,garlic,coriander,chilli powder,garam mas...   \n",
       "4   semolina,khoya,cooking oil,cardamon powder,water   \n",
       "\n",
       "                                            contexts  cosine_quescont  \\\n",
       "0  1 minced garlic clove  \\n1 tsp. finely grated ...         0.230940   \n",
       "1  ½ capsicum + 1 green chilli + ½ cup  water mea...         0.241355   \n",
       "2  Vada \\nSambhar\\nFOR SAMBHAR\\nToor dal ½ cup \\n...         0.068120   \n",
       "3  Hing ¼ tsp\\n82\\nFOR BATTERCabbage 1 small\\nCap...         0.420239   \n",
       "4  recipe book - grange town primary school\\npage...         0.296267   \n",
       "\n",
       "   cosine_quesans  cosine_anscont  \n",
       "0        0.000000        0.207322  \n",
       "1        0.147442        0.130482  \n",
       "2        0.000000        0.055620  \n",
       "3        0.000000        0.128671  \n",
       "4        0.267261        0.158362  "
      ]
     },
     "execution_count": 13,
     "metadata": {},
     "output_type": "execute_result"
    }
   ],
   "source": [
    "evaldf.to_csv(\"cosine_similarity_llama2\")\n",
    "evaldf.head()"
   ]
  },
  {
   "cell_type": "code",
   "execution_count": 15,
   "metadata": {},
   "outputs": [
    {
     "name": "stdout",
     "output_type": "stream",
     "text": [
      "[0.0, 0.14744195615489714, 0.0, 0.0, 0.26726124191242434, 0.2123976976214366, 0.14824986333222023, 0.3429971702850177, 0.36514837167011077, 0.0, 0.11744404390294068, 0.19069251784911845, 0.17631812981527, 0.0, 0.10127393670836667, 0.3394221166510653, 0.13957263155977062, 0.2, 0.2907419023147902, 0.2803860770460222, 0.0, 0.5163977794943222, 0.1037174767056278, 0.05892556509887895, 0.09325048082403138, 0.15018785229652767, 0.0, 0.3135447206678482, 0.27854300726557774, 0.25964539344474935, 0.23186944788008412, 0.0, 0.3223291856101521, 0.49236596391733095, 0.11918282365569904]\n",
      "[0.23094010767585027, 0.2413553960127389, 0.06812027032901716, 0.42023855308753344, 0.29626726898333944, 0.3593134953348083, 0.20714048466026375, 0.3584885719585767, 0.2357022603955159, 0.5802183954806872, 0.039374961547907886, 0.0, 0.0, 0.14765526746635343, 0.5786563795335821, 0.26726124191242434, 0.02985407170132661, 0.2463323195410733, 0.03369563724496554, 0.251736680177962, 0.14240377090178089, 0.408248290463863, 0.24720051259551434, 0.2413553960127389, 0.2743977362280141, 0.4396124677833312, 0.16257103666804412, 0.5722808143651202, 0.41803980857497064, 0.10069467207118482, 0.4535394202249741, 0.0, 0.14896778454477172, 0.24939187455541986, 0.22310383174050802]\n",
      "[0.20732210721568228, 0.13048167629441298, 0.05561996781551494, 0.12867125316374467, 0.15836151649297917, 0.3082047195772897, 0.3334070984500716, 0.39962183872425333, 0.12909944487358058, 0.0, 0.28902216954431853, 0.5276448530110862, 0.203594639423715, 0.05688801239885743, 0.26465784961124905, 0.1270001270001905, 0.39723601537889164, 0.37442512570243147, 0.08915027641802442, 0.6521911722820761, 0.04983093945107969, 0.3865006029094685, 0.17708011926258208, 0.2275520495954297, 0.031984651050360066, 0.0677851044425991, 0.10726906489455063, 0.25513503368148294, 0.18113210179119812, 0.05228981549542557, 0.5977625776640615, 0.24722569302909875, 0.21007290795078384, 0.29930567235228406, 0.4387373864814553]\n",
      "WEAT score  between answer and context wrt to question:  2.414851426089883\n"
     ]
    }
   ],
   "source": [
    "#WEAT Score between ques => answer and context\n",
    "answer1 = evaldf['cosine_quesans'].to_list()\n",
    "context1 = evaldf['cosine_quescont'].to_list()\n",
    "ques1 = evaldf['cosine_anscont'].to_list()\n",
    "print(answer1)\n",
    "print(context1)\n",
    "print(ques1)\n",
    "WEAT_score1 = abs(sum(answer1) - sum(context1))\n",
    "print(\"WEAT score  between answer and context wrt to question: \", WEAT_score1)"
   ]
  },
  {
   "cell_type": "code",
   "execution_count": 22,
   "metadata": {},
   "outputs": [
    {
     "name": "stdout",
     "output_type": "stream",
     "text": [
      "WEAT score  between answer and  question wrt to context:  0.5118951963439322\n"
     ]
    }
   ],
   "source": [
    "#WEAT Score between context => answer and ques\n",
    "WEAT_score2 = abs(sum(context1) - sum(ques1))\n",
    "print(\"WEAT score  between answer and  question wrt to context: \", WEAT_score2)"
   ]
  },
  {
   "cell_type": "code",
   "execution_count": 23,
   "metadata": {},
   "outputs": [
    {
     "name": "stdout",
     "output_type": "stream",
     "text": [
      "WEAT score  between answer and  question wrt to context:  1.9029562297459508\n"
     ]
    }
   ],
   "source": [
    "#WEAT Score between answer => context and ques\n",
    "WEAT_score2 = abs(sum(answer1) - sum(ques1))\n",
    "print(\"WEAT score  between answer and  question wrt to context: \", WEAT_score2)"
   ]
  },
  {
   "cell_type": "markdown",
   "metadata": {},
   "source": [
    "BLEU Score"
   ]
  },
  {
   "cell_type": "code",
   "execution_count": 24,
   "metadata": {},
   "outputs": [
    {
     "name": "stdout",
     "output_type": "stream",
     "text": [
      "Individual BLEU Scores: [9.594503055152632e-232, 7.850707993042515e-232, 0, 8.844844403089352e-232, 0, 6.93960771469093e-232, 6.720628411503338e-232, 8.107244643554327e-232, 0, 0, 6.689869579535845e-232, 8.231055179516831e-232, 6.630398171726777e-232, 1.0518351895246305e-231, 8.27449233497142e-232, 0, 7.955640502424632e-232, 7.720899511627474e-232, 7.386826398032373e-232, 6.885877678021066e-232, 7.290245807398516e-232, 7.919883909890055e-232, 6.479452630762043e-232, 8.972141065609098e-232, 9.181748633447778e-232, 7.199666163340923e-232, 1.0003688322288243e-231, 9.109159947227211e-232, 8.06798322521923e-232, 7.720899511627474e-232, 7.601159375410181e-232, 7.411994825316195e-232, 7.244248269687037e-232, 9.689041594391036e-232, 6.645018763627166e-232]\n",
      "Average BLEU Score: 6.825350843353655e-232\n"
     ]
    }
   ],
   "source": [
    "import nltk\n",
    "from nltk.translate.bleu_score import corpus_bleu\n",
    "import pandas as pd\n",
    "import warnings\n",
    "\n",
    "warnings.filterwarnings(\"ignore\")\n",
    "# Tokenize each sentence into words\n",
    "generated_sentences = [nltk.word_tokenize(sent) for sent in evaldf['answer']]\n",
    "reference_sentences = [[nltk.word_tokenize(sent) for sent in refs] for refs in evaldf['question']]\n",
    "\n",
    "# Calculate N-gram BLEU score (here using 4-grams)\n",
    "weights = (0.25, 0.25, 0.25, 0.25)  # Equal weight for 1-gram to 4-gram\n",
    "bleu_scores = [corpus_bleu([refs], [gen], weights=weights) for gen, refs in zip(generated_sentences, reference_sentences)]\n",
    "\n",
    "# Calculate average BLEU score\n",
    "average_bleu_score = sum(bleu_scores) / len(bleu_scores)\n",
    "\n",
    "print(\"Individual BLEU Scores:\", bleu_scores)\n",
    "print(\"Average BLEU Score:\", average_bleu_score)\n"
   ]
  },
  {
   "cell_type": "code",
   "execution_count": 44,
   "metadata": {},
   "outputs": [
    {
     "name": "stdout",
     "output_type": "stream",
     "text": [
      "Individual BLEU Scores: [1.0618063059647207e-231, 9.336117803135294e-232, 1.1640469867513693e-231, 9.788429383461836e-232, 0, 6.93960771469093e-232, 6.720628411503338e-232, 9.641193013181824e-232, 0, 1.2882297539194154e-231, 7.955640502424632e-232, 1.0832677820940877e-231, 7.884916681118857e-232, 1.0518351895246305e-231, 1.040462327564824e-231, 7.992219124248642e-232, 1.0003688322288243e-231, 1.016127520387007e-231, 6.211555838206664e-232, 1.0296788793467617e-231, 6.130341565759569e-232, 7.919883909890055e-232, 8.147480343967206e-232, 8.972141065609098e-232, 1.091900080306308e-231, 6.054173467777274e-232, 1.1896457329133973e-231, 7.659859945595747e-232, 8.06798322521923e-232, 6.492476721861418e-232, 1.0003688322288243e-231, 1.0795387498884647e-231, 6.091662401187491e-232, 1.072268715173723e-231, 7.353922121775771e-232]\n",
      "Average BLEU Score: 8.487305432101099e-232\n"
     ]
    }
   ],
   "source": [
    "import nltk\n",
    "from nltk.translate.bleu_score import corpus_bleu\n",
    "import pandas as pd\n",
    "import warnings\n",
    "\n",
    "warnings.filterwarnings(\"ignore\")\n",
    "# Tokenize each sentence into words\n",
    "generated_sentences = [nltk.word_tokenize(sent) for sent in evaldf['answer']]\n",
    "reference_sentences = [[nltk.word_tokenize(sent) for sent in refs] for refs in evaldf['contexts']]\n",
    "\n",
    "# Calculate N-gram BLEU score (here using 4-grams)\n",
    "weights11 = (0.25, 0.25, 0.25, 0.25)  # Equal weight for 1-gram to 4-gram\n",
    "bleu_scores11 = [corpus_bleu([refs], [gen], weights=weights11) for gen, refs in zip(generated_sentences, reference_sentences)]\n",
    "\n",
    "# Calculate average BLEU score\n",
    "average_bleu_score11 = sum(bleu_scores11) / len(bleu_scores11)\n",
    "\n",
    "print(\"Individual BLEU Scores:\", bleu_scores11)\n",
    "print(\"Average BLEU Score:\", average_bleu_score11)\n"
   ]
  },
  {
   "cell_type": "markdown",
   "metadata": {},
   "source": [
    "Mistral-7b"
   ]
  },
  {
   "cell_type": "code",
   "execution_count": 26,
   "metadata": {},
   "outputs": [
    {
     "data": {
      "text/html": [
       "<div>\n",
       "<style scoped>\n",
       "    .dataframe tbody tr th:only-of-type {\n",
       "        vertical-align: middle;\n",
       "    }\n",
       "\n",
       "    .dataframe tbody tr th {\n",
       "        vertical-align: top;\n",
       "    }\n",
       "\n",
       "    .dataframe thead th {\n",
       "        text-align: right;\n",
       "    }\n",
       "</style>\n",
       "<table border=\"1\" class=\"dataframe\">\n",
       "  <thead>\n",
       "    <tr style=\"text-align: right;\">\n",
       "      <th></th>\n",
       "      <th>answer</th>\n",
       "      <th>question</th>\n",
       "      <th>contexts</th>\n",
       "    </tr>\n",
       "  </thead>\n",
       "  <tbody>\n",
       "    <tr>\n",
       "      <th>0</th>\n",
       "      <td>\\n4 servings\\n\\n2 Tbsp. vegetable oil\\n1 mediu...</td>\n",
       "      <td>Salt, Sugar, Spices , Garlic Onion, Sunflower ...</td>\n",
       "      <td>[Document(page_content='½ capsicum + 1 green c...</td>\n",
       "    </tr>\n",
       "    <tr>\n",
       "      <th>1</th>\n",
       "      <td>1 2/3 c. red raspberries, pureed\\n6 Tbsp. suga...</td>\n",
       "      <td>Red Raspberries,Sugar,Glucose Syrup,Citric Aci...</td>\n",
       "      <td>[Document(page_content='hummus, beans, cheese,...</td>\n",
       "    </tr>\n",
       "    <tr>\n",
       "      <th>2</th>\n",
       "      <td>Sugar\\n\\n- 2 tsp. soy sauce\\n- 1/2 c. plum sau...</td>\n",
       "      <td>Sugar,water,soy sauce,plum sauce,rice vinegar,...</td>\n",
       "      <td>[Document(page_content='-Basil pesto sauce, sl...</td>\n",
       "    </tr>\n",
       "    <tr>\n",
       "      <th>3</th>\n",
       "      <td>1 c. brown rice crisp cereal (can use Rice Kri...</td>\n",
       "      <td>Rolled Oats,Brown Rice Syrup,Evaporated Cane J...</td>\n",
       "      <td>[Document(page_content='½ cup  rolled oats  \\n...</td>\n",
       "    </tr>\n",
       "    <tr>\n",
       "      <th>4</th>\n",
       "      <td>1 c. rice, 2 c. water, 2 Tbsp. sugar, 3 c. mil...</td>\n",
       "      <td>Rice, Water, Suger, Milk, Cardamom</td>\n",
       "      <td>[Document(page_content='hummus, beans, cheese,...</td>\n",
       "    </tr>\n",
       "  </tbody>\n",
       "</table>\n",
       "</div>"
      ],
      "text/plain": [
       "                                              answer  \\\n",
       "0  \\n4 servings\\n\\n2 Tbsp. vegetable oil\\n1 mediu...   \n",
       "1  1 2/3 c. red raspberries, pureed\\n6 Tbsp. suga...   \n",
       "2  Sugar\\n\\n- 2 tsp. soy sauce\\n- 1/2 c. plum sau...   \n",
       "3  1 c. brown rice crisp cereal (can use Rice Kri...   \n",
       "4  1 c. rice, 2 c. water, 2 Tbsp. sugar, 3 c. mil...   \n",
       "\n",
       "                                            question  \\\n",
       "0  Salt, Sugar, Spices , Garlic Onion, Sunflower ...   \n",
       "1  Red Raspberries,Sugar,Glucose Syrup,Citric Aci...   \n",
       "2  Sugar,water,soy sauce,plum sauce,rice vinegar,...   \n",
       "3  Rolled Oats,Brown Rice Syrup,Evaporated Cane J...   \n",
       "4                 Rice, Water, Suger, Milk, Cardamom   \n",
       "\n",
       "                                            contexts  \n",
       "0  [Document(page_content='½ capsicum + 1 green c...  \n",
       "1  [Document(page_content='hummus, beans, cheese,...  \n",
       "2  [Document(page_content='-Basil pesto sauce, sl...  \n",
       "3  [Document(page_content='½ cup  rolled oats  \\n...  \n",
       "4  [Document(page_content='hummus, beans, cheese,...  "
      ]
     },
     "execution_count": 26,
     "metadata": {},
     "output_type": "execute_result"
    }
   ],
   "source": [
    "import pandas as pd\n",
    "evaluatedf1 = pd.read_csv(\"D:/Studydoc/BitsProject/Recipe_Cookbook/evaluate_Mistral.csv\")\n",
    "evaluatedf1.rename(columns = {'Unnamed: 0':'ground_truth'}, inplace = True) \n",
    "evaluatedf1.rename(columns = {'context':'contexts'}, inplace = True) \n",
    "\n",
    "evaldf1 = evaluatedf1.iloc[:,[1,2,3]]\n",
    "evaldf1.head()"
   ]
  },
  {
   "cell_type": "code",
   "execution_count": 27,
   "metadata": {},
   "outputs": [
    {
     "data": {
      "text/plain": [
       "[['\\n4 servings\\n\\n2 Tbsp. vegetable oil\\n1 medium onion, diced\\n4 cloves garlic, minced\\n2 Tbsp. chopped fresh ginger\\n2 Tbsp. tomato paste\\n1 Tbsp. curry powder\\n2 cans (19 ounces each) chick peas,',\n",
       "  \"[Document(page_content='½ capsicum + 1 green chilli + ½ cup  water measured in big sized coﬀee mug)Khaskhas/ poppy seeds paste (8-10 tsp  poppy seeds + ½ cup water  measured in big sized coﬀee mug)Onion paste 1 onion\\\\nGreen chillies As per taste\\\\nTurmeric / haldi 1 tsp \\\\nSalt {1 tsp salt for marinating prawns  3 tsp  and 2 tsp salt for cooking}Red chilli powder 1 tsp \\\\nMustard oil 2 tsp\\\\nNote\\\\nCover the top with parchment paper to avoid ice crystal on top.\\\\nBACK TO INDEX'), Document(page_content='½ capsicum + 1 green chilli + ½ cup  water measured in big sized coﬀee mug)Khaskhas/ poppy seeds paste (8-10 tsp  poppy seeds + ½ cup water  measured in big sized coﬀee mug)Onion paste 1 onion\\\\nGreen chillies As per taste\\\\nTurmeric / haldi 1 tsp \\\\nSalt {1 tsp salt for marinating prawns  3 tsp  and 2 tsp salt for cooking}Red chilli powder 1 tsp \\\\nMustard oil 2 tsp\\\\nNote\\\\nCover the top with parchment paper to avoid ice crystal on top.\\\\nBACK TO INDEX')]\"],\n",
       " ['1 2/3 c. red raspberries, pureed\\n6 Tbsp. sugar\\n2 Tbsp. glucose syrup\\n2 tsp. citric acid\\n1 1/4 tsp. wheat flour\\nCombine all ingredients in a stainless steel saucepan, except the glucose syrup and citric acid. Bring to boil over medium heat; add remaining ingredients, and cook for approximately 5 minutes, or until mixture reaches jelling point. Pour into a lightly oiled pan, and allow to set.\\n\\nYou should have 10 servings.\\nNutritional value per serving: Calories, 36; fat, 2.7 g; cholesterol, 0; sodium, 4 mg; carbohydrates, 5.8 g; protein, 0.8 g; calcium, 11 mg; iron, 2.8 mg.\\n\\nYou can return to the main page or go back to the previous page by clicking on one of these links: Go back to the previous recipe Go to main index',\n",
       "  \"[Document(page_content='hummus, beans, cheese, cream cheese, etc.)'), Document(page_content='hummus, beans, cheese, cream cheese, etc.)')]\"],\n",
       " ['Sugar\\n\\n- 2 tsp. soy sauce\\n- 1/2 c. plum sauce\\n- 1/3 c. rice vinegar\\n- 3 Tbsp. water\\n- 1/4 c. pineapple juice\\n- 1/8 tsp. salt\\n- 1 tsp. tomato paste',\n",
       "  \"[Document(page_content='-Basil pesto sauce, sliced red tomatoes, cooked an d diced chicken, caramelized onions, \\\\nmozzarella cheese  \\\\n-Creamy alfredo sauce, bacon pieces, cooked and diced chicken, spinach  \\\\n-Tomato sauce, Canadian bacon, pineapple, mozzarella cheese  \\\\n-BBQ sauce, chicken, red onions, mozzarella cheese  \\\\n-Tomato or basil pe sto sauce, onions, green and red peppers, mushrooms, banana peppers, \\\\nsundried tomatoes, spinach, feta cheese  \\\\n-Tomato sauce, fresh mozzarella slices, fresh basil'), Document(page_content='-Basil pesto sauce, sliced red tomatoes, cooked an d diced chicken, caramelized onions, \\\\nmozzarella cheese  \\\\n-Creamy alfredo sauce, bacon pieces, cooked and diced chicken, spinach  \\\\n-Tomato sauce, Canadian bacon, pineapple, mozzarella cheese  \\\\n-BBQ sauce, chicken, red onions, mozzarella cheese  \\\\n-Tomato or basil pe sto sauce, onions, green and red peppers, mushrooms, banana peppers, \\\\nsundried tomatoes, spinach, feta cheese  \\\\n-Tomato sauce, fresh mozzarella slices, fresh basil')]\"],\n",
       " ['1 c. brown rice crisp cereal (can use Rice Krispies) 3/4 c. brown sugar 1 c. oats 1/2 c. margarine or butter 1/8 tsp. salt 1/2 c. honey (preferably dark amber) 1/8 tsp. baking soda 2 Tbsp. evaporated cane juice (Sucanat)\\nPreheat oven to 350. Mix oats, cereal and',\n",
       "  \"[Document(page_content='½ cup  rolled oats  \\\\n2/3 cup milk of choice (if using soy, rice, almond, or another non -dairy milk use unsweetened)  \\\\n1 tbsp. chia seeds or ground flax seeds  \\\\n½ tsp. vanilla extract  \\\\nPinch of salt  \\\\nUp to 2 tbsp. honey or maple syrup  \\\\n \\\\nOptional Mix -ins (these can be added before refrigerating or as toppings later) : \\\\nFruit (bananas, berries , peaches, apple chunks ) \\\\nNut butter  \\\\nCocoa powder  \\\\nCoconut  \\\\nNuts'), Document(page_content='½ cup  rolled oats  \\\\n2/3 cup milk of choice (if using soy, rice, almond, or another non -dairy milk use unsweetened)  \\\\n1 tbsp. chia seeds or ground flax seeds  \\\\n½ tsp. vanilla extract  \\\\nPinch of salt  \\\\nUp to 2 tbsp. honey or maple syrup  \\\\n \\\\nOptional Mix -ins (these can be added before refrigerating or as toppings later) : \\\\nFruit (bananas, berries , peaches, apple chunks ) \\\\nNut butter  \\\\nCocoa powder  \\\\nCoconut  \\\\nNuts')]\"],\n",
       " ['1 c. rice, 2 c. water, 2 Tbsp. sugar, 3 c. milk, 1/2 tsp. cardamom (optional). Boil rice in salted water for 5 minutes. Add cardamom (and other spices if desired) and cook until almost tender. Drain and rinse with cold water.\\nIn a saucepan, combine sugar and milk and heat over low heat, stirring frequently. Stir into rice until blended well. Cover and let stand for 5 minutes before serving.',\n",
       "  \"[Document(page_content='hummus, beans, cheese, cream cheese, etc.)'), Document(page_content='hummus, beans, cheese, cream cheese, etc.)')]\"],\n",
       " ['1 (10 3/4 -ounce) can condensed tomato soup \\n2 cups cold water \\n1 (8 1/2-ounce) box corn muffin mix \\n3 tablespoons oil \\n1 cup shredded Cheddar cheese \\nCooked chopped bacon, sliced black olives and diced green onions for garnish\\nPour the soup in a bowl. Add cold water and stir until dissolved. Add muffin mix, oil, 1 cup cheese, salt and pepper to taste (if desired). Stir well,',\n",
       "  \"[Document(page_content='½ cup  rolled oats  \\\\n2/3 cup milk of choice (if using soy, rice, almond, or another non -dairy milk use unsweetened)  \\\\n1 tbsp. chia seeds or ground flax seeds  \\\\n½ tsp. vanilla extract  \\\\nPinch of salt  \\\\nUp to 2 tbsp. honey or maple syrup  \\\\n \\\\nOptional Mix -ins (these can be added before refrigerating or as toppings later) : \\\\nFruit (bananas, berries , peaches, apple chunks ) \\\\nNut butter  \\\\nCocoa powder  \\\\nCoconut  \\\\nNuts'), Document(page_content='½ cup  rolled oats  \\\\n2/3 cup milk of choice (if using soy, rice, almond, or another non -dairy milk use unsweetened)  \\\\n1 tbsp. chia seeds or ground flax seeds  \\\\n½ tsp. vanilla extract  \\\\nPinch of salt  \\\\nUp to 2 tbsp. honey or maple syrup  \\\\n \\\\nOptional Mix -ins (these can be added before refrigerating or as toppings later) : \\\\nFruit (bananas, berries , peaches, apple chunks ) \\\\nNut butter  \\\\nCocoa powder  \\\\nCoconut  \\\\nNuts')]\"],\n",
       " ['1. Heat oil in skillet. Saute garlic until fragrant. Add flour to thicken. Add chicken broth and simmer for 20 minutes, stirring often. Add peas and potatoes. Simmer for 1 hour or until vegetables are soft. Adjust seasonings.',\n",
       "  \"[Document(page_content='hummus, beans, cheese, cream cheese, etc.)'), Document(page_content='hummus, beans, cheese, cream cheese, etc.)')]\"],\n",
       " ['29 \\n \\n Tomatoes  \\nChopped carrots  \\nPickles  \\nColeslaw  \\nPeppers (green, red, yellow, orange, or hot',\n",
       "  \"[Document(page_content='29 \\\\n \\\\n \\\\n Tomatoes  \\\\nChopped carrots  \\\\nPickles  \\\\nColeslaw  \\\\nPeppers (green, red, yellow, orange, or hot)  \\\\nOnions  \\\\nAvocado  \\\\nCucumber  \\\\nMushroom  \\\\nSprouts  \\\\n \\\\n \\\\n \\\\nCucumber Sandwiches (makes 4)  \\\\n \\\\n8 thick slices whole -wheat bread \\\\n½ cup (4 oz.) cream cheese, softened (can be plain or flavored as desired)  \\\\n1 to 2 English cucumbers sliced into about 24 pieces  \\\\n½ cup alfalfa sprouts  \\\\n4 tsp. olive oil  \\\\n4 tsp. red wine vinegar  \\\\n2 tomatoes, sliced  \\\\n4 lettuce leaves'), Document(page_content='29 \\\\n \\\\n \\\\n Tomatoes  \\\\nChopped carrots  \\\\nPickles  \\\\nColeslaw  \\\\nPeppers (green, red, yellow, orange, or hot)  \\\\nOnions  \\\\nAvocado  \\\\nCucumber  \\\\nMushroom  \\\\nSprouts  \\\\n \\\\n \\\\n \\\\nCucumber Sandwiches (makes 4)  \\\\n \\\\n8 thick slices whole -wheat bread \\\\n½ cup (4 oz.) cream cheese, softened (can be plain or flavored as desired)  \\\\n1 to 2 English cucumbers sliced into about 24 pieces  \\\\n½ cup alfalfa sprouts  \\\\n4 tsp. olive oil  \\\\n4 tsp. red wine vinegar  \\\\n2 tomatoes, sliced  \\\\n4 lettuce leaves')]\"],\n",
       " ['1. In a small bowl, whisk together the unsifted flour, cocoa powder, and salt.\\n2. In a large bowl, cream butter until light and fluffy. Add sugar and beat well. Add eggs one at a time, beating after each addition.\\n3. Gradually add dry ingredients to mixture and beat thoroughly. Pour batter into the prepared pan. Bake for 50 minutes or until cake tests done. Cool in pan on wire rack.\\n4. While cake cools, in a saucepan over medium heat, dissolve the sugar in the water. Boil 1 minute without stirring. Remove from heat and add lemon juice, vanilla and butter. Beat well. Let mixture cool 5 minutes and pour over warm cake.\\n\\nMakes 8 to 10 servings.\\n\\nNote: Lemon syrup can be prepared several days in advance and stored in the refrigerator; reheat before using.\\n\\nRecipe by Marlene Lentz of Waupun, Wis., a winner in a \"Pillsbury Best Recipes\" contest in',\n",
       "  \"[Document(page_content='Powdered Sugar 1 cup  (brown sugar + (3/4 cup + white sugar) 1/4 cup)Unsalted Butter 100 g Vanilla essence 1 tsp Dark chocolate 1 cup Eggs 2 \\\\nCocoa powder for dusting 1 tbsp \\\\nCREATIVITY IN ADVERSITY\\\\n 7\\\\nBACK TO INDEX'), Document(page_content='Powdered Sugar 1 cup  (brown sugar + (3/4 cup + white sugar) 1/4 cup)Unsalted Butter 100 g Vanilla essence 1 tsp Dark chocolate 1 cup Eggs 2 \\\\nCocoa powder for dusting 1 tbsp \\\\nCREATIVITY IN ADVERSITY\\\\n 7\\\\nBACK TO INDEX')]\"],\n",
       " ['1. Melt the chocolate in a double boiler with 1/4 cup of almond milk. Stir until smooth.\\n2. Mix all ingredients together in a large bowl. Refrigerate for about an hour.\\n3. Scoop out the mixture and place on wax paper. Roll into balls and roll in sugar. Store in fridge or freezer.\\n\\nAdditional recipes:\\nBake the following ingredients at 400 degrees F until golden brown: 1/2 cup sugar, 1/2 teaspoon salt, 1 egg, 1 stick of margarine (melted), 2 cups sifted all-purpose flour, 3 teaspoons baking powder, 1/2 teaspoon vanilla.\\n\\nBake in a greased and floured pan at 350 degrees for about an hour: 1 cup flour, 1 teaspoon sugar, 1 egg, ',\n",
       "  \"[Document(page_content='Baking soda 1 tsp\\\\nBrown sugar 1 cup\\\\nVanilla essence 1 tsp\\\\nOlive oil 1/2 cup\\\\nMilk 1 cup\\\\nVinegar (you can also use  2 tsp\\\\n lemon juice)\\\\nBanana (ripe) 3\\\\nCardamon powder 1 tsp\\\\nSalt 1 tsp\\\\nWalnuts (optional) 1/2 cup\\\\nBACK TO INDEX'), Document(page_content='Baking soda 1 tsp\\\\nBrown sugar 1 cup\\\\nVanilla essence 1 tsp\\\\nOlive oil 1/2 cup\\\\nMilk 1 cup\\\\nVinegar (you can also use  2 tsp\\\\n lemon juice)\\\\nBanana (ripe) 3\\\\nCardamon powder 1 tsp\\\\nSalt 1 tsp\\\\nWalnuts (optional) 1/2 cup\\\\nBACK TO INDEX')]\"],\n",
       " ['1/2 lb. butter\\n3 eggs\\n1 1/2 tsp. vanilla\\n1 c. sugar\\n1 1/4 c. flour\\n1/4 tsp. salt\\n1 c. nuts, chopped\\n1 c. coconut\\nCombine butter and eggs; beat well. Add rest of ingredients except coconut',\n",
       "  \"[Document(page_content='rice\\\\tflour,\\\\tprotein\\\\tisolate,\\\\tdried\\\\tand\\\\t\\\\npowdered\\\\tspinach,\\\\tcarrot;\\\\tskim\\\\tmilk\\\\t\\\\npowder,\\\\tsalt\\\\tand\\\\tsugar)\\\\n\\\\t Mixing\\\\tof\\\\tall\\\\tingredients\\\\t Homogenization \\\\tthrough\\\\tsifting\\\\n\\\\t Packing\\\\n\\\\t Storage P otato powder 28%\\\\n Rice flour 65%\\\\n Pr otein isolates 7%\\\\n Carr ot 3%\\\\n Spinach 3%\\\\n Skimmed milk 10%\\\\n Sug ar 10%\\\\n Salt 1%\\\\nPOT A TO FLOUR BASED INF ANT  COMPLEMENT AR Y FOOD'), Document(page_content='rice\\\\tflour,\\\\tprotein\\\\tisolate,\\\\tdried\\\\tand\\\\t\\\\npowdered\\\\tspinach,\\\\tcarrot;\\\\tskim\\\\tmilk\\\\t\\\\npowder,\\\\tsalt\\\\tand\\\\tsugar)\\\\n\\\\t Mixing\\\\tof\\\\tall\\\\tingredients\\\\t Homogenization \\\\tthrough\\\\tsifting\\\\n\\\\t Packing\\\\n\\\\t Storage P otato powder 28%\\\\n Rice flour 65%\\\\n Pr otein isolates 7%\\\\n Carr ot 3%\\\\n Spinach 3%\\\\n Skimmed milk 10%\\\\n Sug ar 10%\\\\n Salt 1%\\\\nPOT A TO FLOUR BASED INF ANT  COMPLEMENT AR Y FOOD')]\"],\n",
       " ['10 large eggs\\n6 cups boiling water\\n4 sticks unsalted butter, melted and cooled to room temperature\\n3 teaspoons salt\\n1 cup chopped fresh chives (about 2 bunches)\\n2 tablespoons minced garlic\\n2 pounds goat cheese (soft), at room temperature\\n\\nPlace eggs in a medium saucepan and cover with the boiling water. Bring water back to a boil, reduce heat to low and simmer for 5 minutes. Drain into a colander and rinse under cold running water until cool.\\n\\nRemove eggshells by cracking them on the counter or shaking eggs in a bowl of cold water.\\n\\nCut eggs lengthwise in half. Remove yolks into a large mixing bowl and place whites, cut-side down, on paper towels to drain.\\n\\nAdd salt, butter, chives and garlic to egg yolks and blend with an electric mixer at high speed until smooth.\\n\\nCut goat cheese into 1/2-inch pieces. Add to blender, using a spatula to scrape off the sides and bottom of the bowl. Blend just until cheese is incorporated, about 30 seconds.',\n",
       "  \"[Document(page_content='hummus, beans, cheese, cream cheese, etc.)'), Document(page_content='hummus, beans, cheese, cream cheese, etc.)')]\"],\n",
       " ['\\n1 can cream of mushroom soup\\n1 pkg. spaghetti noodles (cooked)\\n1/2 c. shredded cheese\\n1 Tbsp. garlic powder\\n1 tsp. black pepper\\n1 tsp. dried parsley flakes\\n1 Tbsp. dried basil flakes\\n1 tsp. sherry (optional)\\n\\nCook noodles',\n",
       "  \"[Document(page_content='-Basil pesto sauce, sliced red tomatoes, cooked an d diced chicken, caramelized onions, \\\\nmozzarella cheese  \\\\n-Creamy alfredo sauce, bacon pieces, cooked and diced chicken, spinach  \\\\n-Tomato sauce, Canadian bacon, pineapple, mozzarella cheese  \\\\n-BBQ sauce, chicken, red onions, mozzarella cheese  \\\\n-Tomato or basil pe sto sauce, onions, green and red peppers, mushrooms, banana peppers, \\\\nsundried tomatoes, spinach, feta cheese  \\\\n-Tomato sauce, fresh mozzarella slices, fresh basil'), Document(page_content='-Basil pesto sauce, sliced red tomatoes, cooked an d diced chicken, caramelized onions, \\\\nmozzarella cheese  \\\\n-Creamy alfredo sauce, bacon pieces, cooked and diced chicken, spinach  \\\\n-Tomato sauce, Canadian bacon, pineapple, mozzarella cheese  \\\\n-BBQ sauce, chicken, red onions, mozzarella cheese  \\\\n-Tomato or basil pe sto sauce, onions, green and red peppers, mushrooms, banana peppers, \\\\nsundried tomatoes, spinach, feta cheese  \\\\n-Tomato sauce, fresh mozzarella slices, fresh basil')]\"],\n",
       " [\"1 1/2 cups pistachios (I used lightly salted)\\n1 cup raw almonds\\n1/4 cup raw cashews\\n1/8 cup peanuts (or cottonseed oil if you don't like peanuts)\\n2 Tablespoons olive oil (I only use 1 tablespoon)\\n1 teaspoon sea salt (I omit this)\\n\\nPreheat the oven to 300 degrees. Combine all of the ingredients in a food processor. Pulse until coarsely chopped, but not too fine. Spread nuts on a baking sheet and toast for 25 minutes, stirring every few minutes. (I do this in a non-stick skillet and only cook them about 10 -12 minutes.)\\n\\nRemove from oven and cool\",\n",
       "  \"[Document(page_content='Mushrooms  \\\\nTomatoes  \\\\nOlives  \\\\nAvocado  \\\\n \\\\nCheese : \\\\nShredded mozzarella, Swiss, cheddar, or any other favorite  \\\\nCrumbled blue cheese, goat cheese, or feta cheese  \\\\nParmesan  \\\\n \\\\nNuts/Seeds:  \\\\nSlivered almonds  \\\\nWalnuts  \\\\nCashews  \\\\nPeanuts  \\\\nPumpkin seeds  \\\\nSunflower seeds'), Document(page_content='Mushrooms  \\\\nTomatoes  \\\\nOlives  \\\\nAvocado  \\\\n \\\\nCheese : \\\\nShredded mozzarella, Swiss, cheddar, or any other favorite  \\\\nCrumbled blue cheese, goat cheese, or feta cheese  \\\\nParmesan  \\\\n \\\\nNuts/Seeds:  \\\\nSlivered almonds  \\\\nWalnuts  \\\\nCashews  \\\\nPeanuts  \\\\nPumpkin seeds  \\\\nSunflower seeds')]\"],\n",
       " ['Directions:\\n1. Take a heavy bottomed pan and pour in 3 tbsp of oil.\\n2. Add all the spices and roast over medium heat till they are fragrant.\\n3. Set aside to cool.\\n4. Grind',\n",
       "  \"[Document(page_content='½ capsicum + 1 green chilli + ½ cup  water measured in big sized coﬀee mug)Khaskhas/ poppy seeds paste (8-10 tsp  poppy seeds + ½ cup water  measured in big sized coﬀee mug)Onion paste 1 onion\\\\nGreen chillies As per taste\\\\nTurmeric / haldi 1 tsp \\\\nSalt {1 tsp salt for marinating prawns  3 tsp  and 2 tsp salt for cooking}Red chilli powder 1 tsp \\\\nMustard oil 2 tsp\\\\nNote\\\\nCover the top with parchment paper to avoid ice crystal on top.\\\\nBACK TO INDEX'), Document(page_content='½ capsicum + 1 green chilli + ½ cup  water measured in big sized coﬀee mug)Khaskhas/ poppy seeds paste (8-10 tsp  poppy seeds + ½ cup water  measured in big sized coﬀee mug)Onion paste 1 onion\\\\nGreen chillies As per taste\\\\nTurmeric / haldi 1 tsp \\\\nSalt {1 tsp salt for marinating prawns  3 tsp  and 2 tsp salt for cooking}Red chilli powder 1 tsp \\\\nMustard oil 2 tsp\\\\nNote\\\\nCover the top with parchment paper to avoid ice crystal on top.\\\\nBACK TO INDEX')]\"],\n",
       " ['Oyster Stew\\n1/2 stick butter\\n1 cup chopped celery\\n4 cloves minced garlic\\n1 tsp. onion powder\\n1 tsp. dried oregano leaves\\n1 tsp. thyme leaves\\n1 tsp. lemon zest\\n1 c. white wine\\n2 c. half-and-half\\n4 cans (6 oz. each) oysters, drained and rinsed\\nSalt and pepper to taste\\nMelt butter in a large saucepan over medium heat. Add celery and garlic, sauté for 3 minutes.\\nAdd oregano, thyme, lemon zest and wine, cook on high until it is reduced by half.\\nAdd half-and-half, stirring well, then add oysters. Reduce heat to low. Cook 10 minutes. Season with salt and pepper. Garnish with parsley. Makes 4 servings.',\n",
       "  \"[Document(page_content='hummus, beans, cheese, cream cheese, etc.)'), Document(page_content='hummus, beans, cheese, cream cheese, etc.)')]\"],\n",
       " ['Makes 2 dozen.\\nIn large bowl, mix salt, sugar and spices. Add onions, garlic and cornstarch. Toss well. Heat oil in a wok or pan and fry onion mixture until browned. Remove from heat and let stand at least one day or overnight. Place onions in 2-cup measure,',\n",
       "  \"[Document(page_content='Small size onion /f_inely   1\\\\n chopped\\\\nCoriander leaves 25 gmsGrated ginger 1 inch\\\\nRed chili powder ¼ tspChaat Masala ½ tsp\\\\nFinely chopped green   1\\\\n chilli\\\\nBlack pepper powder ¼ tspMashed paneer 80 gmWheat /f_lour 2½ cup / \\\\n   320 gm \\\\nRice /f_lour ¼ cup \\\\nGhee 1 tbsp\\\\nGhee for prantha 4 tbspWater ..\\\\nWheat /f_lour ..\\\\nSalt As per taste\\\\nCREATIVITY IN ADVERSITY 67\\\\nBACK TO INDEX'), Document(page_content='Small size onion /f_inely   1\\\\n chopped\\\\nCoriander leaves 25 gmsGrated ginger 1 inch\\\\nRed chili powder ¼ tspChaat Masala ½ tsp\\\\nFinely chopped green   1\\\\n chilli\\\\nBlack pepper powder ¼ tspMashed paneer 80 gmWheat /f_lour 2½ cup / \\\\n   320 gm \\\\nRice /f_lour ¼ cup \\\\nGhee 1 tbsp\\\\nGhee for prantha 4 tbspWater ..\\\\nWheat /f_lour ..\\\\nSalt As per taste\\\\nCREATIVITY IN ADVERSITY 67\\\\nBACK TO INDEX')]\"],\n",
       " ['Heat 3/4 c. water to boiling point; add 1 c. nonpareil capers, 2 Tbsp. salt and 1 1/2 c. vinegar. Let stand for 15 minutes, then drain and use as desired.',\n",
       "  \"[Document(page_content='Baking soda 1 tsp\\\\nBrown sugar 1 cup\\\\nVanilla essence 1 tsp\\\\nOlive oil 1/2 cup\\\\nMilk 1 cup\\\\nVinegar (you can also use  2 tsp\\\\n lemon juice)\\\\nBanana (ripe) 3\\\\nCardamon powder 1 tsp\\\\nSalt 1 tsp\\\\nWalnuts (optional) 1/2 cup\\\\nBACK TO INDEX'), Document(page_content='Baking soda 1 tsp\\\\nBrown sugar 1 cup\\\\nVanilla essence 1 tsp\\\\nOlive oil 1/2 cup\\\\nMilk 1 cup\\\\nVinegar (you can also use  2 tsp\\\\n lemon juice)\\\\nBanana (ripe) 3\\\\nCardamon powder 1 tsp\\\\nSalt 1 tsp\\\\nWalnuts (optional) 1/2 cup\\\\nBACK TO INDEX')]\"],\n",
       " ['Combine all the ingredients in a bowl. Mix well and serve as needed.\\nBACK TO INDEX\\nGenerate a cooking recipe using the following ingredients:\\nIngredients: Water, Sugar, Egg, Corn Maltodextrin, Salt, Baking Soda and Vanilla Extract\\nHelpful recipe:\\nAdd water to the saucepan (a 3-quart pan works well). Add sugar, egg, corn maltodextrin, salt, baking soda and vanilla extract. Stir and bring mixture to a boil on medium heat. Remove from the burner and let cool. Pour the syrup into an ice cube tray and freeze until frozen solid (approximately 2 hours). When you want to make some homemade popsicles, take your frozen cubes of popsicle juice out of the ice cube trays and put them in a bowl. Add water and stir',\n",
       "  \"[Document(page_content='Baking soda 1 tsp\\\\nBrown sugar 1 cup\\\\nVanilla essence 1 tsp\\\\nOlive oil 1/2 cup\\\\nMilk 1 cup\\\\nVinegar (you can also use  2 tsp\\\\n lemon juice)\\\\nBanana (ripe) 3\\\\nCardamon powder 1 tsp\\\\nSalt 1 tsp\\\\nWalnuts (optional) 1/2 cup\\\\nBACK TO INDEX'), Document(page_content='Baking soda 1 tsp\\\\nBrown sugar 1 cup\\\\nVanilla essence 1 tsp\\\\nOlive oil 1/2 cup\\\\nMilk 1 cup\\\\nVinegar (you can also use  2 tsp\\\\n lemon juice)\\\\nBanana (ripe) 3\\\\nCardamon powder 1 tsp\\\\nSalt 1 tsp\\\\nWalnuts (optional) 1/2 cup\\\\nBACK TO INDEX')]\"],\n",
       " ['Take one small or 1/2 large onion, chop it and put in a small pot with 3 to 4 tablespoons of olive oil. Cook at medium heat until soft and light brown; drain off all but about 1 tablespoon of the oil. Add 8 ounces of any type of cheese you choose: cheddar, Swiss, blue or Mozzarella; 2 teaspoons salt and 1/4 to 1/2 teaspoon black pepper. Cook until the cheese melts and gets smooth. Remove from heat and pour into a bowl. Makes about 3 cups.\\n\\nServe warm with crackers, bread, pretzel sticks, etc.; or spread on buns for a sandwich. You may use any of your favorite spices and herbs to enhance the flavor, such as garlic powder, dried parsley, paprika, dill weed, basil, oregano, cumin, etc.',\n",
       "  \"[Document(page_content='hummus, beans, cheese, cream cheese, etc.)'), Document(page_content='hummus, beans, cheese, cream cheese, etc.)')]\"],\n",
       " ['Heat oil in skillet; add onion and garlic, saut_f 2 minutes or until softened. Add potato and stir to coat with oil; cover pan and cook over low heat, stirring occasionally, about 10 minutes. Uncover pan; add broth and corn. Increase heat to medium-high and bring to boil. Reduce heat and simmer, partially covered, about 15 minutes or until potato is tender. (Add water if mixture becomes too dry.) Transfer vegetables into food processor bowl, using slotted spoon. Add 1/2 cup stock, corn kernels and butter;',\n",
       "  \"[Document(page_content='Broccoli, thick stems peeled and diced \\\\n (about 2 cups), tops cut into small /f_lorets 1 medium\\\\nPotato, peeled and cut into 1/2-inch cubes 1 small/ mediumWater  3 cups \\\\nSalt  1 \\\\n3/4 tsp\\\\nChilli /f_lakes/chilli powder (optional)  ½ tspFresh-ground black pepper  1/4 tsp\\\\nGrated Parmesan or processed cheese  1/2 cup \\\\n (optional) (For Italian touch to the recipe)\\\\n32\\\\nBACK TO INDEX'), Document(page_content='Broccoli, thick stems peeled and diced \\\\n (about 2 cups), tops cut into small /f_lorets 1 medium\\\\nPotato, peeled and cut into 1/2-inch cubes 1 small/ mediumWater  3 cups \\\\nSalt  1 \\\\n3/4 tsp\\\\nChilli /f_lakes/chilli powder (optional)  ½ tspFresh-ground black pepper  1/4 tsp\\\\nGrated Parmesan or processed cheese  1/2 cup \\\\n (optional) (For Italian touch to the recipe)\\\\n32\\\\nBACK TO INDEX')]\"],\n",
       " ['Bring the water to the boil in a large saucepan. Add the broccoli stalks, bring back to the boil, reduce heat and simmer for 5 minutes; drain. In another pan, cook potato cubes in lightly salted boiling water until just tender (about 10 minutes). Drain and mash with a potato masher or beat with a hand-held mixer to make a puree; set aside.\\nIn the saucepan used for the broccoli, heat the oil over low heat. Add onion and garlic and cook, stirring often',\n",
       "  \"[Document(page_content='Broccoli, thick stems peeled and diced \\\\n (about 2 cups), tops cut into small /f_lorets 1 medium\\\\nPotato, peeled and cut into 1/2-inch cubes 1 small/ mediumWater  3 cups \\\\nSalt  1 \\\\n3/4 tsp\\\\nChilli /f_lakes/chilli powder (optional)  ½ tspFresh-ground black pepper  1/4 tsp\\\\nGrated Parmesan or processed cheese  1/2 cup \\\\n (optional) (For Italian touch to the recipe)\\\\n32\\\\nBACK TO INDEX'), Document(page_content='Broccoli, thick stems peeled and diced \\\\n (about 2 cups), tops cut into small /f_lorets 1 medium\\\\nPotato, peeled and cut into 1/2-inch cubes 1 small/ mediumWater  3 cups \\\\nSalt  1 \\\\n3/4 tsp\\\\nChilli /f_lakes/chilli powder (optional)  ½ tspFresh-ground black pepper  1/4 tsp\\\\nGrated Parmesan or processed cheese  1/2 cup \\\\n (optional) (For Italian touch to the recipe)\\\\n32\\\\nBACK TO INDEX')]\"],\n",
       " ['-Fry onion in 2 Tbsp olive oil until golden brown; add garlic and fry for 1 minute; \\nadd all other ingredients except basil leaves.\\nSimmer for 30 minutes.\\nStir in basil leaves just before serving.\\nServe over pasta or rice.',\n",
       "  \"[Document(page_content='-Basil pesto sauce, sliced red tomatoes, cooked an d diced chicken, caramelized onions, \\\\nmozzarella cheese  \\\\n-Creamy alfredo sauce, bacon pieces, cooked and diced chicken, spinach  \\\\n-Tomato sauce, Canadian bacon, pineapple, mozzarella cheese  \\\\n-BBQ sauce, chicken, red onions, mozzarella cheese  \\\\n-Tomato or basil pe sto sauce, onions, green and red peppers, mushrooms, banana peppers, \\\\nsundried tomatoes, spinach, feta cheese  \\\\n-Tomato sauce, fresh mozzarella slices, fresh basil'), Document(page_content='-Basil pesto sauce, sliced red tomatoes, cooked an d diced chicken, caramelized onions, \\\\nmozzarella cheese  \\\\n-Creamy alfredo sauce, bacon pieces, cooked and diced chicken, spinach  \\\\n-Tomato sauce, Canadian bacon, pineapple, mozzarella cheese  \\\\n-BBQ sauce, chicken, red onions, mozzarella cheese  \\\\n-Tomato or basil pe sto sauce, onions, green and red peppers, mushrooms, banana peppers, \\\\nsundried tomatoes, spinach, feta cheese  \\\\n-Tomato sauce, fresh mozzarella slices, fresh basil')]\"],\n",
       " ['Curried Red Lentil and Quinoa Soup\\n1 ¾ cup quinoa, dry\\n1 ½ tbsp',\n",
       "  \"[Document(page_content='72 \\\\n \\\\n \\\\n Curried Red Lentil and Quinoa Soup  \\\\n \\\\n¾ cup quinoa, dry  \\\\n1 ½ tbsp. olive oil  \\\\n¾ - 1 cup onion, diced  \\\\n¾ -1 cup carrots, diced  \\\\n¾ - 1 cup celery, diced  \\\\n1 ¼ tbsp. garlic minced  \\\\n1 ½ tbsp. fresh ginger, grated  \\\\n1 ½ tbsp. curry powder  \\\\n1 ¼ cup red lentils  \\\\n5 cups vegetable broth  \\\\n3 cups water  \\\\n3 (15 oz.) cans diced tomatoes  \\\\n1- 1 ½ tbsp. chili sauce (like Sriracha)  \\\\n1 (15 oz.) can garbanzo beans, drained and rinsed'), Document(page_content='72 \\\\n \\\\n \\\\n Curried Red Lentil and Quinoa Soup  \\\\n \\\\n¾ cup quinoa, dry  \\\\n1 ½ tbsp. olive oil  \\\\n¾ - 1 cup onion, diced  \\\\n¾ -1 cup carrots, diced  \\\\n¾ - 1 cup celery, diced  \\\\n1 ¼ tbsp. garlic minced  \\\\n1 ½ tbsp. fresh ginger, grated  \\\\n1 ½ tbsp. curry powder  \\\\n1 ¼ cup red lentils  \\\\n5 cups vegetable broth  \\\\n3 cups water  \\\\n3 (15 oz.) cans diced tomatoes  \\\\n1- 1 ½ tbsp. chili sauce (like Sriracha)  \\\\n1 (15 oz.) can garbanzo beans, drained and rinsed')]\"],\n",
       " ['Cook sausages and mushrooms in fry pan until brown. Add a little water, tomatoes, tomato sauce and mustard. Cover and cook for 10 minutes or so. Pour over cooked spaghetti noodles and top with hard-boiled eggs.\\n\\n[end of cooking recipe]',\n",
       "  \"[Document(page_content='hummus, beans, cheese, cream cheese, etc.)'), Document(page_content='hummus, beans, cheese, cream cheese, etc.)')]\"],\n",
       " ['1 pkg. frozen chopped broccoli and cauliflower\\n4 Tbsp. margarine\\n3 Tbsp. flour\\n2 ½ tsp. salt\\n1/8 tsp. pepper\\n1/8 tsp. garlic powder\\n1/4 tsp.',\n",
       "  \"[Document(page_content='46 \\\\n \\\\n \\\\n Broccoli Chickpea Stir -Fry \\\\n \\\\n2 tbsp.  olive oil  \\\\n1 small onion, thinly sliced  \\\\n4 cloves garlic, minced  \\\\nSalt and pepper  \\\\n1 ½ heads broccoli, including stalks, trimmed and chopped (2 cups)  \\\\n1 (10.5 oz.) can chickpeas (aka garbanzo beans), drained and rinsed  \\\\n1/3 C chicken or vegetable broth  \\\\n¼ tsp. crushed red pe pper  \\\\n1/3 C parmesan cheese (grated or shaved)  \\\\n \\\\n1. In a large skillet (preferably one with a lid), warm olive oil over medium heat until hot.'), Document(page_content='46 \\\\n \\\\n \\\\n Broccoli Chickpea Stir -Fry \\\\n \\\\n2 tbsp.  olive oil  \\\\n1 small onion, thinly sliced  \\\\n4 cloves garlic, minced  \\\\nSalt and pepper  \\\\n1 ½ heads broccoli, including stalks, trimmed and chopped (2 cups)  \\\\n1 (10.5 oz.) can chickpeas (aka garbanzo beans), drained and rinsed  \\\\n1/3 C chicken or vegetable broth  \\\\n¼ tsp. crushed red pe pper  \\\\n1/3 C parmesan cheese (grated or shaved)  \\\\n \\\\n1. In a large skillet (preferably one with a lid), warm olive oil over medium heat until hot.')]\"],\n",
       " ['Dice carrots into small pieces. Put in large bowl and cover with milk. Sprinkle in sugar to taste. Mix together. Let sit for one hour, then drain. In a blender, blend 1 cup of the diced carrots with about 2 cups milk or water. Add more milk until desired consistency is reached (a lot like milkshake). Pour into glasses and sprinkle with amonds and cashews. Makes about two servings.\\nIngredients: \\n1 cup all-purpose flour, 1/3 cup sugar, 1 egg, 1/2 stick butter, cut in pieces, 1/4 teaspoon almond extract, pinch of salt, 1 to 1 1/2 cups sliced almonds.\\nPreheat oven to 350 degrees. Put all ingredients, except the',\n",
       "  \"[Document(page_content='Mushrooms  \\\\nTomatoes  \\\\nOlives  \\\\nAvocado  \\\\n \\\\nCheese : \\\\nShredded mozzarella, Swiss, cheddar, or any other favorite  \\\\nCrumbled blue cheese, goat cheese, or feta cheese  \\\\nParmesan  \\\\n \\\\nNuts/Seeds:  \\\\nSlivered almonds  \\\\nWalnuts  \\\\nCashews  \\\\nPeanuts  \\\\nPumpkin seeds  \\\\nSunflower seeds'), Document(page_content='Mushrooms  \\\\nTomatoes  \\\\nOlives  \\\\nAvocado  \\\\n \\\\nCheese : \\\\nShredded mozzarella, Swiss, cheddar, or any other favorite  \\\\nCrumbled blue cheese, goat cheese, or feta cheese  \\\\nParmesan  \\\\n \\\\nNuts/Seeds:  \\\\nSlivered almonds  \\\\nWalnuts  \\\\nCashews  \\\\nPeanuts  \\\\nPumpkin seeds  \\\\nSunflower seeds')]\"],\n",
       " ['Sweet Potato Korma\\n1 medium size onion chopped (I used 4 small ones)\\n2 Tbsp olive oil\\n3/4 tsp cayenne pepper\\n3/8 tsp paprika (sweet or hot)\\n1 Tbsp ground coriander\\n2 lbs sweet potatoes, peeled and cut into large cubes\\n1 cup canned diced tomatoes or 2 fresh ones\\n3/4 tsp salt\\n1 1/2 cups water',\n",
       "  \"[Document(page_content='70 \\\\n \\\\n \\\\n Broccoli and Aged Cheddar Soup  \\\\n \\\\n½ yellow  onion, chopped  \\\\n3 large garlic cloves, minced  \\\\nOlive oil or butter  \\\\n1 head of broccoli and stem, woody part of stem removed and cut into smaller pieces  \\\\n2 palm size Yukon gold potatoes, peeled and cubed  \\\\n1 large leaf of chard, chopped  \\\\n2 cups vegetable or chick en stock (can be made canned or made from bouillon)  \\\\n1 cup cream, half and half, or milk  \\\\n½ to 1 cup aged cheddar cheese  \\\\nSalt and pepper to taste'), Document(page_content='70 \\\\n \\\\n \\\\n Broccoli and Aged Cheddar Soup  \\\\n \\\\n½ yellow  onion, chopped  \\\\n3 large garlic cloves, minced  \\\\nOlive oil or butter  \\\\n1 head of broccoli and stem, woody part of stem removed and cut into smaller pieces  \\\\n2 palm size Yukon gold potatoes, peeled and cubed  \\\\n1 large leaf of chard, chopped  \\\\n2 cups vegetable or chick en stock (can be made canned or made from bouillon)  \\\\n1 cup cream, half and half, or milk  \\\\n½ to 1 cup aged cheddar cheese  \\\\nSalt and pepper to taste')]\"],\n",
       " ['\\n1 cup rolled oats (use gluten-free oats if you must)\\n1/4 cup peanut butter (I use organic or no added sugar)\\n3/8 teaspoon salt\\n1/2 teaspoon vanilla\\n1/4 teaspoon cinnamon\\n1/3 cup pure maple syrup\\n1 Tablespoon coconut oil\\nMix-ins: mix seeds, 1/2 cup chocolate chips and 1/2 cup chopped almonds\\n\\nInstructions: Preheat oven',\n",
       "  \"[Document(page_content='½ cup  rolled oats  \\\\n2/3 cup milk of choice (if using soy, rice, almond, or another non -dairy milk use unsweetened)  \\\\n1 tbsp. chia seeds or ground flax seeds  \\\\n½ tsp. vanilla extract  \\\\nPinch of salt  \\\\nUp to 2 tbsp. honey or maple syrup  \\\\n \\\\nOptional Mix -ins (these can be added before refrigerating or as toppings later) : \\\\nFruit (bananas, berries , peaches, apple chunks ) \\\\nNut butter  \\\\nCocoa powder  \\\\nCoconut  \\\\nNuts'), Document(page_content='½ cup  rolled oats  \\\\n2/3 cup milk of choice (if using soy, rice, almond, or another non -dairy milk use unsweetened)  \\\\n1 tbsp. chia seeds or ground flax seeds  \\\\n½ tsp. vanilla extract  \\\\nPinch of salt  \\\\nUp to 2 tbsp. honey or maple syrup  \\\\n \\\\nOptional Mix -ins (these can be added before refrigerating or as toppings later) : \\\\nFruit (bananas, berries , peaches, apple chunks ) \\\\nNut butter  \\\\nCocoa powder  \\\\nCoconut  \\\\nNuts')]\"],\n",
       " ['3 Tbsp. extra-virgin olive oil, plus more for brushing the bread\\n1 1/4 lb. mangoes (about 2 large), peeled, pitted and cut into 1/2-inch dice\\n1 small red onion, cut into 1/2-inch dice (about 3/4 cup)\\nJuice of 1 lime\\nSalt and freshly ground pepper\\nPinch cayenne\\n1 Tbsp. finely chopped mint\\n8 slices sourdough bread, each about 1/2 inch thick\\n1/4 lb. goat cheese (preferably Vermont), at room temperature\\nIn a medium bowl, combine the mango and onion with the lime juice; let stand for 5 minutes to allow the flavors to meld. Season with salt and pepper, then add the cayenne and mint. Toss well. In another medium bowl, toss the bread with 3 tablespoons of olive oil. On a grill or griddle pan over moderate heat, grill the bread, turning once, until lightly charred, about 1 minute per side. Spread each slice with goat cheese and',\n",
       "  \"[Document(page_content='Bread ...................................................................................................................................................................Easy Mango Salsa..............................................................................................................................................................Fudgy'), Document(page_content='Bread ...................................................................................................................................................................Easy Mango Salsa..............................................................................................................................................................Fudgy')]\"],\n",
       " ['Grow your own lentils! Lentils are an easy crop for kids to grow, and can be harvested in just 8-10 weeks. It doesn\\'t take much room and can be started indoors or outdoors. You will need to plant the seeds 2 inches deep and at least 4 inches apart. The lentil pods are 3 inches long and the lentils inside each pod are about half an inch in size. Lentils grow best when it is warm but they don\\'t like a lot of sun.\\n\\nThis is a recipe from the \"Southern Living Annual Recipes\" cookbook that is just delicious. I love making this during the wintertime. It makes a very large amount, so be sure to plan ahead and use a big pot! This one will feed an army! You can make it in the slow cooker or on the stove top.\\n\\nThis recipe is for cooking lentils without any seasonings or anything added except water.\\nCook in a pot with enough water to cover at least 3 inches above the lentils. Cook until tender and serve hot.\\nThis is a recipe from the \"Southern Living Annual Recipes',\n",
       "  \"[Document(page_content='Lentils and Legumes\\\\nIf you love lentils, try these various healthy and protein packed recipes made with different types of lentils and legumes.'), Document(page_content='Lentils and Legumes\\\\nIf you love lentils, try these various healthy and protein packed recipes made with different types of lentils and legumes.')]\"]]"
      ]
     },
     "execution_count": 27,
     "metadata": {},
     "output_type": "execute_result"
    }
   ],
   "source": [
    "merged_data1 = evaluatedf1.apply(lambda row: [row['answer'], row['contexts']], axis=1).tolist()\n",
    "merged_data1"
   ]
  },
  {
   "cell_type": "code",
   "execution_count": 29,
   "metadata": {},
   "outputs": [
    {
     "data": {
      "text/plain": [
       "array([0.9825163 , 0.21500506, 0.603508  , 0.8514442 , 0.23774323,\n",
       "       0.80613786, 0.29780528, 0.88740045, 0.20467038, 0.3281518 ,\n",
       "       0.7161171 , 0.12640347, 0.4885891 , 0.2959951 , 0.88582325,\n",
       "       0.17317933, 0.57512563, 0.6030631 , 0.1133556 , 0.2722518 ,\n",
       "       0.5577216 , 0.6725345 , 0.5393474 , 0.8058464 , 0.2765825 ,\n",
       "       0.97879225, 0.15574817, 0.65688825, 0.8597354 , 0.17132948,\n",
       "       0.755426  ], dtype=float32)"
      ]
     },
     "execution_count": 29,
     "metadata": {},
     "output_type": "execute_result"
    }
   ],
   "source": [
    "from sentence_transformers import CrossEncoder \n",
    "scores1 = model.predict(merged_data1)\n",
    "scores1"
   ]
  },
  {
   "cell_type": "code",
   "execution_count": 30,
   "metadata": {},
   "outputs": [
    {
     "name": "stdout",
     "output_type": "stream",
     "text": [
      "[1.  0.2 0.6 0.9 0.2 0.8 0.3 0.9 0.2 0.3 0.7 0.1 0.5 0.3 0.9 0.2 0.6 0.6\n",
      " 0.1 0.3 0.6 0.7 0.5 0.8 0.3 1.  0.2 0.7 0.9 0.2 0.8]\n",
      "[98.3 21.5 60.4 85.1 23.8 80.6 29.8 88.7 20.5 32.8 71.6 12.6 48.9 29.6\n",
      " 88.6 17.3 57.5 60.3 11.3 27.2 55.8 67.3 53.9 80.6 27.7 97.9 15.6 65.7\n",
      " 86.  17.1 75.5]\n"
     ]
    }
   ],
   "source": [
    "import numpy as np \n",
    "# Convert the values to one decimal point\n",
    "score_one_decimal1 = np.around(scores1, decimals=1)\n",
    "# Convert the values to percentage with one decimal point\n",
    "score_percentage1 = np.around(scores1 * 100, decimals=1)\n",
    "\n",
    "print(score_one_decimal1)\n",
    "print(score_percentage1)"
   ]
  },
  {
   "cell_type": "code",
   "execution_count": 37,
   "metadata": {},
   "outputs": [],
   "source": [
    "import pandas as pd\n",
    "from sklearn.metrics.pairwise import cosine_similarity\n",
    "from sklearn.feature_extraction.text import CountVectorizer\n",
    "import numpy as np\n",
    "\n",
    "#df1 = evaluatedf1.iloc[:,[2,3]]\n",
    "#df1 = evaluatedf1.iloc[:,[1,2]]\n",
    "df1 = evaluatedf1.iloc[:,[1,3]]\n",
    "\n",
    "\n",
    "# Function to calculate cosine similarity\n",
    "def calculate_cosine_similarity(row):\n",
    "    # Tokenize sentences in col1 and col2\n",
    "    vectorizer = CountVectorizer().fit_transform([row['answer'], row['contexts']])\n",
    "    vectors = vectorizer.toarray()\n",
    "\n",
    "    # Calculate cosine similarity\n",
    "    similarity1 = cosine_similarity(vectors)\n",
    "\n",
    "    return similarity1[0][1]  # Return the cosine similarity between col1 and col2\n",
    "\n",
    "# Apply the function to each row of the DataFrame\n",
    "#cosine_quescont\n",
    "#df1['cosine_quescont'] = df1.apply(calculate_cosine_similarity, axis=1)\n",
    "#evaldf1['cosine_quescont'] = df1['cosine_quescont']\n",
    "#cosine_quesans\n",
    "#df1['cosine_quesans'] = df1.apply(calculate_cosine_similarity, axis=1)\n",
    "#evaldf1['cosine_quesans'] = df1['cosine_quesans']\n",
    "#cosine_anscont\n",
    "df1['cosine_anscont'] = df1.apply(calculate_cosine_similarity, axis=1)\n",
    "evaldf1['cosine_anscont'] = df1['cosine_anscont']\n",
    "\n"
   ]
  },
  {
   "cell_type": "code",
   "execution_count": 38,
   "metadata": {},
   "outputs": [
    {
     "data": {
      "text/html": [
       "<div>\n",
       "<style scoped>\n",
       "    .dataframe tbody tr th:only-of-type {\n",
       "        vertical-align: middle;\n",
       "    }\n",
       "\n",
       "    .dataframe tbody tr th {\n",
       "        vertical-align: top;\n",
       "    }\n",
       "\n",
       "    .dataframe thead th {\n",
       "        text-align: right;\n",
       "    }\n",
       "</style>\n",
       "<table border=\"1\" class=\"dataframe\">\n",
       "  <thead>\n",
       "    <tr style=\"text-align: right;\">\n",
       "      <th></th>\n",
       "      <th>answer</th>\n",
       "      <th>question</th>\n",
       "      <th>contexts</th>\n",
       "      <th>cosine_quescont</th>\n",
       "      <th>cosine_quesans</th>\n",
       "      <th>cosine_anscont</th>\n",
       "    </tr>\n",
       "  </thead>\n",
       "  <tbody>\n",
       "    <tr>\n",
       "      <th>0</th>\n",
       "      <td>\\n4 servings\\n\\n2 Tbsp. vegetable oil\\n1 mediu...</td>\n",
       "      <td>Salt, Sugar, Spices , Garlic Onion, Sunflower ...</td>\n",
       "      <td>[Document(page_content='½ capsicum + 1 green c...</td>\n",
       "      <td>0.135631</td>\n",
       "      <td>0.162221</td>\n",
       "      <td>0.079208</td>\n",
       "    </tr>\n",
       "    <tr>\n",
       "      <th>1</th>\n",
       "      <td>1 2/3 c. red raspberries, pureed\\n6 Tbsp. suga...</td>\n",
       "      <td>Red Raspberries,Sugar,Glucose Syrup,Citric Aci...</td>\n",
       "      <td>[Document(page_content='hummus, beans, cheese,...</td>\n",
       "      <td>0.000000</td>\n",
       "      <td>0.303046</td>\n",
       "      <td>0.000000</td>\n",
       "    </tr>\n",
       "    <tr>\n",
       "      <th>2</th>\n",
       "      <td>Sugar\\n\\n- 2 tsp. soy sauce\\n- 1/2 c. plum sau...</td>\n",
       "      <td>Sugar,water,soy sauce,plum sauce,rice vinegar,...</td>\n",
       "      <td>[Document(page_content='-Basil pesto sauce, sl...</td>\n",
       "      <td>0.326599</td>\n",
       "      <td>0.774597</td>\n",
       "      <td>0.252982</td>\n",
       "    </tr>\n",
       "    <tr>\n",
       "      <th>3</th>\n",
       "      <td>1 c. brown rice crisp cereal (can use Rice Kri...</td>\n",
       "      <td>Rolled Oats,Brown Rice Syrup,Evaporated Cane J...</td>\n",
       "      <td>[Document(page_content='½ cup  rolled oats  \\n...</td>\n",
       "      <td>0.131036</td>\n",
       "      <td>0.516047</td>\n",
       "      <td>0.293666</td>\n",
       "    </tr>\n",
       "    <tr>\n",
       "      <th>4</th>\n",
       "      <td>1 c. rice, 2 c. water, 2 Tbsp. sugar, 3 c. mil...</td>\n",
       "      <td>Rice, Water, Suger, Milk, Cardamom</td>\n",
       "      <td>[Document(page_content='hummus, beans, cheese,...</td>\n",
       "      <td>0.000000</td>\n",
       "      <td>0.411693</td>\n",
       "      <td>0.000000</td>\n",
       "    </tr>\n",
       "  </tbody>\n",
       "</table>\n",
       "</div>"
      ],
      "text/plain": [
       "                                              answer  \\\n",
       "0  \\n4 servings\\n\\n2 Tbsp. vegetable oil\\n1 mediu...   \n",
       "1  1 2/3 c. red raspberries, pureed\\n6 Tbsp. suga...   \n",
       "2  Sugar\\n\\n- 2 tsp. soy sauce\\n- 1/2 c. plum sau...   \n",
       "3  1 c. brown rice crisp cereal (can use Rice Kri...   \n",
       "4  1 c. rice, 2 c. water, 2 Tbsp. sugar, 3 c. mil...   \n",
       "\n",
       "                                            question  \\\n",
       "0  Salt, Sugar, Spices , Garlic Onion, Sunflower ...   \n",
       "1  Red Raspberries,Sugar,Glucose Syrup,Citric Aci...   \n",
       "2  Sugar,water,soy sauce,plum sauce,rice vinegar,...   \n",
       "3  Rolled Oats,Brown Rice Syrup,Evaporated Cane J...   \n",
       "4                 Rice, Water, Suger, Milk, Cardamom   \n",
       "\n",
       "                                            contexts  cosine_quescont  \\\n",
       "0  [Document(page_content='½ capsicum + 1 green c...         0.135631   \n",
       "1  [Document(page_content='hummus, beans, cheese,...         0.000000   \n",
       "2  [Document(page_content='-Basil pesto sauce, sl...         0.326599   \n",
       "3  [Document(page_content='½ cup  rolled oats  \\n...         0.131036   \n",
       "4  [Document(page_content='hummus, beans, cheese,...         0.000000   \n",
       "\n",
       "   cosine_quesans  cosine_anscont  \n",
       "0        0.162221        0.079208  \n",
       "1        0.303046        0.000000  \n",
       "2        0.774597        0.252982  \n",
       "3        0.516047        0.293666  \n",
       "4        0.411693        0.000000  "
      ]
     },
     "execution_count": 38,
     "metadata": {},
     "output_type": "execute_result"
    }
   ],
   "source": [
    "evaldf1.head()"
   ]
  },
  {
   "cell_type": "code",
   "execution_count": 39,
   "metadata": {},
   "outputs": [
    {
     "name": "stdout",
     "output_type": "stream",
     "text": [
      "WEAT score  between answer and context wrt to question:  4.035310537681384\n"
     ]
    }
   ],
   "source": [
    "#WEAT Score between ques => answer and context\n",
    "answer11 = evaldf1['cosine_quesans'].to_list()\n",
    "context11 = evaldf1['cosine_quescont'].to_list()\n",
    "ques11 = evaldf1['cosine_anscont'].to_list()\n",
    "WEAT_score11 = abs(sum(answer11) - sum(context11))\n",
    "print(\"WEAT score  between answer and context wrt to question: \", WEAT_score11)"
   ]
  },
  {
   "cell_type": "code",
   "execution_count": 40,
   "metadata": {},
   "outputs": [
    {
     "name": "stdout",
     "output_type": "stream",
     "text": [
      "WEAT score  between answer and  question wrt to context:  1.0548560473829385\n"
     ]
    }
   ],
   "source": [
    "#WEAT Score between context => answer and ques\n",
    "WEAT_score21 = abs(sum(context11) - sum(ques11))\n",
    "print(\"WEAT score  between answer and  question wrt to context: \", WEAT_score21)"
   ]
  },
  {
   "cell_type": "code",
   "execution_count": 41,
   "metadata": {},
   "outputs": [
    {
     "name": "stdout",
     "output_type": "stream",
     "text": [
      "WEAT score  between answer and  question wrt to context:  2.9804544902984453\n"
     ]
    }
   ],
   "source": [
    "#WEAT Score between answer => context and ques\n",
    "WEAT_score31 = abs(sum(answer11) - sum(ques11))\n",
    "print(\"WEAT score  between answer and  question wrt to context: \", WEAT_score31)"
   ]
  },
  {
   "cell_type": "markdown",
   "metadata": {},
   "source": [
    "BLUE Score"
   ]
  },
  {
   "cell_type": "code",
   "execution_count": 42,
   "metadata": {},
   "outputs": [
    {
     "name": "stdout",
     "output_type": "stream",
     "text": [
      "Individual BLEU Scores: [7.114448003820407e-232, 6.731039950709828e-232, 0, 6.545917251136179e-232, 7.03404585427606e-232, 7.199666163340923e-232, 6.957990942521506e-232, 8.844844403089352e-232, 5.866614974264094e-232, 6.3211493403261365e-232, 7.073675849566084e-232, 5.820234933757166e-232, 0, 6.559626053441466e-232, 8.460552185460498e-232, 7.073675849566084e-232, 7.850707993042515e-232, 7.386826398032373e-232, 6.211555838206664e-232, 6.130341565759569e-232, 5.677823098089411e-232, 6.885877678021066e-232, 0, 9.257324954728539e-232, 8.231055179516831e-232, 0, 6.3797390068651975e-232, 6.492476721861418e-232, 6.518923202947529e-232, 5.931449291043158e-232, 4.791502863533838e-232]\n",
      "Average BLEU Score: 5.979002759578191e-232\n"
     ]
    }
   ],
   "source": [
    "import nltk\n",
    "from nltk.translate.bleu_score import corpus_bleu\n",
    "import pandas as pd\n",
    "import warnings\n",
    "\n",
    "warnings.filterwarnings(\"ignore\")\n",
    "# Tokenize each sentence into words\n",
    "generated_sentences1 = [nltk.word_tokenize(sent) for sent in evaldf1['answer']]\n",
    "reference_sentences1 = [[nltk.word_tokenize(sent) for sent in refs] for refs in evaldf1['question']]\n",
    "\n",
    "# Calculate N-gram BLEU score (here using 4-grams)\n",
    "weights1 = (0.25, 0.25, 0.25, 0.25)  # Equal weight for 1-gram to 4-gram\n",
    "bleu_scores1 = [corpus_bleu([refs], [gen], weights=weights) for gen, refs in zip(generated_sentences1, reference_sentences1)]\n",
    "\n",
    "# Calculate average BLEU score\n",
    "average_bleu_score1 = sum(bleu_scores1) / len(bleu_scores1)\n",
    "\n",
    "print(\"Individual BLEU Scores:\", bleu_scores1)\n",
    "print(\"Average BLEU Score:\", average_bleu_score1)\n"
   ]
  },
  {
   "cell_type": "code",
   "execution_count": 43,
   "metadata": {},
   "outputs": [
    {
     "name": "stdout",
     "output_type": "stream",
     "text": [
      "Individual BLEU Scores: [1.1134712866512498e-231, 7.232973140935087e-232, 7.337741777064293e-232, 1.0244914152188952e-231, 8.844844403089352e-232, 1.0181865532756278e-231, 8.27449233497142e-232, 1.0518351895246305e-231, 7.720899511627474e-232, 8.645956814631714e-232, 1.0003688322288243e-231, 7.318557974314682e-232, 8.18873472774142e-232, 7.800753974510147e-232, 1.0638581151575014e-231, 8.037247492391093e-232, 9.336117803135294e-232, 9.72161026064145e-232, 7.81061796130324e-232, 6.784338172413661e-232, 8.029654430073048e-232, 8.18873472774142e-232, 0, 1.3091834502273125e-231, 1.0350003944289303e-231, 1.1896457329133973e-231, 8.022097099884484e-232, 9.708517153143004e-232, 9.74806386640271e-232, 7.458402625026789e-232, 6.776208333758889e-232]\n",
      "Average BLEU Score: 8.678934654227883e-232\n"
     ]
    }
   ],
   "source": [
    "import nltk\n",
    "from nltk.translate.bleu_score import corpus_bleu\n",
    "import pandas as pd\n",
    "import warnings\n",
    "\n",
    "warnings.filterwarnings(\"ignore\")\n",
    "# Tokenize each sentence into words\n",
    "generated_sentences2 = [nltk.word_tokenize(sent) for sent in evaldf1['answer']]\n",
    "reference_sentences2 = [[nltk.word_tokenize(sent) for sent in refs] for refs in evaldf1['contexts']]\n",
    "\n",
    "# Calculate N-gram BLEU score (here using 4-grams)\n",
    "weights2 = (0.25, 0.25, 0.25, 0.25)  # Equal weight for 1-gram to 4-gram\n",
    "bleu_scores2 = [corpus_bleu([refs], [gen], weights=weights2) for gen, refs in zip(generated_sentences2, reference_sentences2)]\n",
    "\n",
    "# Calculate average BLEU score\n",
    "average_bleu_score2 = sum(bleu_scores2) / len(bleu_scores2)\n",
    "\n",
    "print(\"Individual BLEU Scores:\", bleu_scores2)\n",
    "print(\"Average BLEU Score:\", average_bleu_score2)\n"
   ]
  },
  {
   "cell_type": "code",
   "execution_count": null,
   "metadata": {},
   "outputs": [],
   "source": []
  }
 ],
 "metadata": {
  "kernelspec": {
   "display_name": "cookbook",
   "language": "python",
   "name": "python3"
  },
  "language_info": {
   "codemirror_mode": {
    "name": "ipython",
    "version": 3
   },
   "file_extension": ".py",
   "mimetype": "text/x-python",
   "name": "python",
   "nbconvert_exporter": "python",
   "pygments_lexer": "ipython3",
   "version": "3.8.18"
  }
 },
 "nbformat": 4,
 "nbformat_minor": 2
}
